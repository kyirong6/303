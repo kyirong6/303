{
 "cells": [
  {
   "cell_type": "code",
   "execution_count": 3,
   "id": "3ff1ede5",
   "metadata": {},
   "outputs": [],
   "source": [
    "import pandas as pd\n",
    "import numpy as np\n",
    "import statsmodels.api as sm\n",
    "import re"
   ]
  },
  {
   "cell_type": "markdown",
   "id": "2e3d78f1",
   "metadata": {},
   "source": [
    "### Data"
   ]
  },
  {
   "cell_type": "code",
   "execution_count": 4,
   "id": "ed01761e",
   "metadata": {},
   "outputs": [
    {
     "name": "stderr",
     "output_type": "stream",
     "text": [
      "/var/folders/0w/7qj8hh4n3w53g1qsr8gf4s_w0000gn/T/ipykernel_39640/2249881497.py:1: DtypeWarning: Columns (8,9,29) have mixed types. Specify dtype option on import or set low_memory=False.\n",
      "  charting_df = pd.read_csv('data/charting-m-points.csv', encoding = \"ISO-8859-1\")\n"
     ]
    }
   ],
   "source": [
    "charting_df = pd.read_csv('data/charting-m-points.csv', encoding = \"ISO-8859-1\")"
   ]
  },
  {
   "cell_type": "code",
   "execution_count": 5,
   "id": "0502208d",
   "metadata": {
    "scrolled": true
   },
   "outputs": [
    {
     "data": {
      "text/html": [
       "<div>\n",
       "<style scoped>\n",
       "    .dataframe tbody tr th:only-of-type {\n",
       "        vertical-align: middle;\n",
       "    }\n",
       "\n",
       "    .dataframe tbody tr th {\n",
       "        vertical-align: top;\n",
       "    }\n",
       "\n",
       "    .dataframe thead th {\n",
       "        text-align: right;\n",
       "    }\n",
       "</style>\n",
       "<table border=\"1\" class=\"dataframe\">\n",
       "  <thead>\n",
       "    <tr style=\"text-align: right;\">\n",
       "      <th></th>\n",
       "      <th>match_id</th>\n",
       "      <th>Pt</th>\n",
       "      <th>Set1</th>\n",
       "      <th>Set2</th>\n",
       "      <th>Gm1</th>\n",
       "      <th>Gm2</th>\n",
       "      <th>Pts</th>\n",
       "      <th>Gm#</th>\n",
       "      <th>TbSet</th>\n",
       "      <th>TB?</th>\n",
       "      <th>...</th>\n",
       "      <th>2ndIn</th>\n",
       "      <th>isAce</th>\n",
       "      <th>isUnret</th>\n",
       "      <th>isRallyWinner</th>\n",
       "      <th>isForced</th>\n",
       "      <th>isUnforced</th>\n",
       "      <th>isDouble</th>\n",
       "      <th>PtWinner</th>\n",
       "      <th>isSvrWinner</th>\n",
       "      <th>rallyCount</th>\n",
       "    </tr>\n",
       "  </thead>\n",
       "  <tbody>\n",
       "    <tr>\n",
       "      <th>0</th>\n",
       "      <td>20220713-M-Newport-R16-Andy_Murray-Max_Purcell</td>\n",
       "      <td>1</td>\n",
       "      <td>0</td>\n",
       "      <td>0</td>\n",
       "      <td>0.0</td>\n",
       "      <td>0.0</td>\n",
       "      <td>0-0</td>\n",
       "      <td>1 (1)</td>\n",
       "      <td>1</td>\n",
       "      <td>0</td>\n",
       "      <td>...</td>\n",
       "      <td>NaN</td>\n",
       "      <td>False</td>\n",
       "      <td>False</td>\n",
       "      <td>False</td>\n",
       "      <td>False</td>\n",
       "      <td>False</td>\n",
       "      <td>False</td>\n",
       "      <td>1</td>\n",
       "      <td>1</td>\n",
       "      <td>1</td>\n",
       "    </tr>\n",
       "  </tbody>\n",
       "</table>\n",
       "<p>1 rows × 30 columns</p>\n",
       "</div>"
      ],
      "text/plain": [
       "                                         match_id  Pt  Set1  Set2  Gm1  Gm2  \\\n",
       "0  20220713-M-Newport-R16-Andy_Murray-Max_Purcell   1     0     0  0.0  0.0   \n",
       "\n",
       "   Pts    Gm# TbSet TB?  ...  2ndIn  isAce  isUnret isRallyWinner isForced  \\\n",
       "0  0-0  1 (1)     1   0  ...    NaN  False    False         False    False   \n",
       "\n",
       "  isUnforced isDouble  PtWinner  isSvrWinner  rallyCount  \n",
       "0      False    False         1            1           1  \n",
       "\n",
       "[1 rows x 30 columns]"
      ]
     },
     "execution_count": 5,
     "metadata": {},
     "output_type": "execute_result"
    }
   ],
   "source": [
    "charting_df.head(1)"
   ]
  },
  {
   "cell_type": "markdown",
   "id": "56f9cad6",
   "metadata": {},
   "source": [
    "### Exploration"
   ]
  },
  {
   "cell_type": "code",
   "execution_count": 6,
   "id": "f8d8edda",
   "metadata": {},
   "outputs": [],
   "source": [
    "wimbeldon_chart_df = charting_df[charting_df['match_id'].str.contains('Wimbledon')]"
   ]
  },
  {
   "cell_type": "markdown",
   "id": "74a1ae02",
   "metadata": {},
   "source": [
    "#### Winning Shot Statistics"
   ]
  },
  {
   "cell_type": "code",
   "execution_count": 7,
   "id": "888ff377",
   "metadata": {},
   "outputs": [],
   "source": [
    "# get rows for both 1st and 2nd\n",
    "wimbeldon_chart_1st = wimbeldon_chart_df[wimbeldon_chart_df['1st'].notna()]\n",
    "wimbeldon_chart_2nd = wimbeldon_chart_df[wimbeldon_chart_df['2nd'].notna()]"
   ]
  },
  {
   "cell_type": "code",
   "execution_count": 8,
   "id": "4d023cd1",
   "metadata": {},
   "outputs": [
    {
     "name": "stderr",
     "output_type": "stream",
     "text": [
      "/var/folders/0w/7qj8hh4n3w53g1qsr8gf4s_w0000gn/T/ipykernel_39640/3234859012.py:2: FutureWarning: The series.append method is deprecated and will be removed from pandas in a future version. Use pandas.concat instead.\n",
      "  rallys = rallys.append(wimbeldon_chart_2nd['2nd'])\n"
     ]
    }
   ],
   "source": [
    "rallys = wimbeldon_chart_1st['1st']\n",
    "rallys = rallys.append(wimbeldon_chart_2nd['2nd'])"
   ]
  },
  {
   "cell_type": "code",
   "execution_count": 9,
   "id": "c0bc0bf4",
   "metadata": {},
   "outputs": [
    {
     "data": {
      "text/plain": [
       "(78705,)"
      ]
     },
     "execution_count": 9,
     "metadata": {},
     "output_type": "execute_result"
    }
   ],
   "source": [
    "rallys.shape"
   ]
  },
  {
   "cell_type": "code",
   "execution_count": 10,
   "id": "7d3c5830",
   "metadata": {},
   "outputs": [],
   "source": [
    "# sequences of rallies that end with '*' represent a winner was hit\n",
    "# winners_df_1st = wimbeldon_chart_1st[wimbeldon_chart_1st['1st'].str.contains(\"\\*\")]\n",
    "# winners_df_2nd = wimbeldon_chart_2nd[wimbeldon_chart_2nd['2nd'].str.contains(\"\\*\")]\n",
    "winning_shots = rallys[rallys.str.contains(\"\\*\")]"
   ]
  },
  {
   "cell_type": "code",
   "execution_count": 11,
   "id": "20195a26",
   "metadata": {},
   "outputs": [],
   "source": [
    "#winners_df = winners_df_1st['1st']\n",
    "#winners_df = winners_df.append(winners_df_2nd['2nd'])"
   ]
  },
  {
   "cell_type": "code",
   "execution_count": 12,
   "id": "d5989bf8",
   "metadata": {},
   "outputs": [
    {
     "data": {
      "text/plain": [
       "(20290,)"
      ]
     },
     "execution_count": 12,
     "metadata": {},
     "output_type": "execute_result"
    }
   ],
   "source": [
    "winning_shots.shape"
   ]
  },
  {
   "cell_type": "code",
   "execution_count": 13,
   "id": "5c2e1589",
   "metadata": {},
   "outputs": [],
   "source": [
    "# 1st value: winners\n",
    "# 2nd value: total occurences of this shot selection in general\n",
    "shot_map = {\n",
    "    'f': [0, 0,'fh gs'],\n",
    "    'b': [0, 0,'bh gs'],\n",
    "    'r': [0, 0, 'fh slice'],\n",
    "    's': [0, 0, 'bh slice'],\n",
    "    'v': [0, 0,'fh volley'],\n",
    "    'z': [0, 0,'bh volley'],\n",
    "    'o': [0, 0,'oh smash'],\n",
    "    'p': [0, 0,'bh smash'],\n",
    "    'u': [0, 0,'fh drop'],\n",
    "    'y': [0, 0,'bh drop'],\n",
    "    'l': [0, 0,'fh lob'],\n",
    "    'm': [0, 0,'bh lob'],\n",
    "    'h': [0, 0,'fh hv'],\n",
    "    'i': [0, 0,'bh hv'],\n",
    "    'j': [0, 0,'fh sv'],\n",
    "    'k': [0, 0,'bh sv'],\n",
    "    't': [0, 0,'trickshot'],\n",
    "    'q': [0, 0,'unknown'],\n",
    "    'c': [0, 0,'challenge']\n",
    "}"
   ]
  },
  {
   "cell_type": "markdown",
   "id": "e85a7526",
   "metadata": {},
   "source": [
    "#### get winning shots"
   ]
  },
  {
   "cell_type": "code",
   "execution_count": 16,
   "id": "04a63486",
   "metadata": {},
   "outputs": [],
   "source": [
    "letter_regex = '[a-zA-Z]'"
   ]
  },
  {
   "cell_type": "code",
   "execution_count": 17,
   "id": "53881539",
   "metadata": {},
   "outputs": [],
   "source": [
    "num_of_winning_shots = 0\n",
    "for i in winning_shots:\n",
    "    if len(i) > 2: # ignore aces for now\n",
    "        winning_shot = i[-4:]\n",
    "        match = re.search(r'{letter_regex}'.format(letter_regex=letter_regex), winning_shot)\n",
    "        if match:\n",
    "            shot = match[0]\n",
    "            if shot == 'd':\n",
    "                winning_shot = i[-5:]\n",
    "                match = re.search(r'{letter_regex}'.format(letter_regex=letter_regex), winning_shot)  \n",
    "                shot = match[0]\n",
    "            num_of_winning_shots += 1\n",
    "            shot_map[shot.lower()][0] += 1\n",
    "            "
   ]
  },
  {
   "cell_type": "code",
   "execution_count": 18,
   "id": "6d03146d",
   "metadata": {},
   "outputs": [
    {
     "data": {
      "text/plain": [
       "{'f': [4865, 0, 'fh gs'],\n",
       " 'b': [2681, 0, 'bh gs'],\n",
       " 'r': [91, 0, 'fh slice'],\n",
       " 's': [311, 0, 'bh slice'],\n",
       " 'v': [2122, 0, 'fh volley'],\n",
       " 'z': [1896, 0, 'bh volley'],\n",
       " 'o': [1221, 0, 'oh smash'],\n",
       " 'p': [61, 0, 'bh smash'],\n",
       " 'u': [165, 0, 'fh drop'],\n",
       " 'y': [138, 0, 'bh drop'],\n",
       " 'l': [93, 0, 'fh lob'],\n",
       " 'm': [111, 0, 'bh lob'],\n",
       " 'h': [81, 0, 'fh hv'],\n",
       " 'i': [65, 0, 'bh hv'],\n",
       " 'j': [139, 0, 'fh sv'],\n",
       " 'k': [29, 0, 'bh sv'],\n",
       " 't': [2, 0, 'trickshot'],\n",
       " 'q': [10, 0, 'unknown'],\n",
       " 'c': [244, 0, 'challenge']}"
      ]
     },
     "execution_count": 18,
     "metadata": {},
     "output_type": "execute_result"
    }
   ],
   "source": [
    "shot_map"
   ]
  },
  {
   "cell_type": "markdown",
   "id": "8d97477f",
   "metadata": {},
   "source": [
    "#### get total occurences of shot in general and build df for viz"
   ]
  },
  {
   "cell_type": "code",
   "execution_count": 20,
   "id": "8144898d",
   "metadata": {},
   "outputs": [],
   "source": [
    "all_rallys_str = ''.join(list(rallys))"
   ]
  },
  {
   "cell_type": "code",
   "execution_count": 21,
   "id": "5c8f732d",
   "metadata": {},
   "outputs": [],
   "source": [
    "df = []\n",
    "for shot, stats in shot_map.items():\n",
    "    total_shots = all_rallys_str.count(shot)\n",
    "    stats[1] = total_shots\n",
    "    df.append({\n",
    "        'shot': stats[2],\n",
    "        'total': stats[1],\n",
    "        'winners': stats[0]\n",
    "    })"
   ]
  },
  {
   "cell_type": "code",
   "execution_count": 22,
   "id": "fbcd8027",
   "metadata": {},
   "outputs": [
    {
     "data": {
      "text/plain": [
       "{'f': [4865, 63776, 'fh gs'],\n",
       " 'b': [2681, 49124, 'bh gs'],\n",
       " 'r': [91, 4477, 'fh slice'],\n",
       " 's': [311, 22149, 'bh slice'],\n",
       " 'v': [2122, 6178, 'fh volley'],\n",
       " 'z': [1896, 7183, 'bh volley'],\n",
       " 'o': [1221, 1978, 'oh smash'],\n",
       " 'p': [61, 212, 'bh smash'],\n",
       " 'u': [165, 667, 'fh drop'],\n",
       " 'y': [138, 889, 'bh drop'],\n",
       " 'l': [93, 1124, 'fh lob'],\n",
       " 'm': [111, 2260, 'bh lob'],\n",
       " 'h': [81, 1116, 'fh hv'],\n",
       " 'i': [65, 1236, 'bh hv'],\n",
       " 'j': [139, 302, 'fh sv'],\n",
       " 'k': [29, 71, 'bh sv'],\n",
       " 't': [2, 99, 'trickshot'],\n",
       " 'q': [10, 134, 'unknown'],\n",
       " 'c': [244, 2916, 'challenge']}"
      ]
     },
     "execution_count": 22,
     "metadata": {},
     "output_type": "execute_result"
    }
   ],
   "source": [
    "shot_map"
   ]
  },
  {
   "cell_type": "code",
   "execution_count": 23,
   "id": "f546df1a",
   "metadata": {},
   "outputs": [],
   "source": [
    "shot_selection_df = pd.DataFrame(df)"
   ]
  },
  {
   "cell_type": "code",
   "execution_count": 203,
   "id": "b29780a6",
   "metadata": {},
   "outputs": [],
   "source": [
    "shot_selection_df =  shot_selection_df.sort_values(\"total\", ascending=False)"
   ]
  },
  {
   "cell_type": "code",
   "execution_count": 217,
   "id": "b22bc4ab",
   "metadata": {
    "scrolled": true
   },
   "outputs": [],
   "source": [
    "shot_selection_df = shot_selection_df[shot_selection_df['total']>=6000]"
   ]
  },
  {
   "cell_type": "markdown",
   "id": "e7bce137",
   "metadata": {},
   "source": [
    "### Plots"
   ]
  },
  {
   "cell_type": "markdown",
   "id": "6a32518e",
   "metadata": {},
   "source": [
    "#### regular"
   ]
  },
  {
   "cell_type": "code",
   "execution_count": 39,
   "id": "d22dc196",
   "metadata": {},
   "outputs": [
    {
     "name": "stderr",
     "output_type": "stream",
     "text": [
      "/var/folders/0w/7qj8hh4n3w53g1qsr8gf4s_w0000gn/T/ipykernel_39640/2384458608.py:33: UserWarning: FixedFormatter should only be used together with FixedLocator\n",
      "  ax.set_yticklabels(ylabels, size=22)\n"
     ]
    },
    {
     "data": {
      "image/png": "[encoded data removed]",
      "text/plain": [
       "<Figure size 3000x1500 with 1 Axes>"
      ]
     },
     "metadata": {},
     "output_type": "display_data"
    }
   ],
   "source": [
    "import seaborn as sns\n",
    "import matplotlib.pyplot as plt\n",
    "sns.set_theme(style=\"whitegrid\")\n",
    "\n",
    "# Initialize the matplotlib figure\n",
    "f, ax = plt.subplots(figsize=(30, 15))\n",
    "\n",
    "sns.set(font_scale=2)\n",
    "sns.set_color_codes(\"pastel\")\n",
    "sns.barplot(x=\"shot\", y=\"total\", data=shot_selection_df,\n",
    "            label=\"Total\", color=\"b\")\n",
    "\n",
    "\n",
    "sns.set_color_codes(\"muted\")\n",
    "sns.barplot(x=\"shot\", y=\"winners\", data=shot_selection_df,\n",
    "            label=\"Winners\", color=\"b\")\n",
    "\n",
    "# Add a legend and informative axis label\n",
    "ax.legend(ncol=2, loc=\"upper right\", frameon=True)\n",
    "ax.set(ylim=(0, 60000), ylabel=\"\",\n",
    "       xlabel=\"Total Number of Shot Types and Shot Winners in a Rally\")\n",
    "\n",
    "# get label text\n",
    "_, xlabels = plt.xticks()\n",
    "\n",
    "# set the x-labels with\n",
    "ax.set_xticklabels(xlabels, size=22)\n",
    "\n",
    "# get label text\n",
    "_, ylabels = plt.yticks()\n",
    "\n",
    "# set the y-labels with\n",
    "ax.set_yticklabels(ylabels, size=22)\n",
    "\n",
    "sns.despine(left=True, bottom=True)"
   ]
  },
  {
   "cell_type": "code",
   "execution_count": 40,
   "id": "329126dc",
   "metadata": {},
   "outputs": [],
   "source": [
    "f.savefig(\"shot_fig.png\")"
   ]
  },
  {
   "cell_type": "markdown",
   "id": "a7880ebb",
   "metadata": {},
   "source": [
    "#### flipped"
   ]
  },
  {
   "cell_type": "code",
   "execution_count": 58,
   "id": "0c7659a6",
   "metadata": {},
   "outputs": [
    {
     "name": "stderr",
     "output_type": "stream",
     "text": [
      "/var/folders/0w/7qj8hh4n3w53g1qsr8gf4s_w0000gn/T/ipykernel_39640/597388156.py:28: UserWarning: FixedFormatter should only be used together with FixedLocator\n",
      "  ax.set_xticklabels(xlabels, size=30)\n"
     ]
    },
    {
     "data": {
      "image/png": "[encoded data removed]",
      "text/plain": [
       "<Figure size 3000x1500 with 1 Axes>"
      ]
     },
     "metadata": {},
     "output_type": "display_data"
    }
   ],
   "source": [
    "import seaborn as sns\n",
    "import matplotlib.pyplot as plt\n",
    "sns.set_theme(style=\"whitegrid\")\n",
    "\n",
    "plt.rcParams[\"axes.labelsize\"] = 28\n",
    "# Initialize the matplotlib figure\n",
    "f, ax = plt.subplots(figsize=(30, 15))\n",
    "\n",
    "sns.set(font_scale=3)\n",
    "sns.set_color_codes(\"pastel\")\n",
    "sns.barplot(x=\"total\", y=\"shot\", data=shot_selection_df,\n",
    "            label=\"Total\", color=\"b\").set_title('Shot Types and Shot Winners in Rallys from Wimbledon 2022')\n",
    "\n",
    "\n",
    "sns.set_color_codes(\"muted\")\n",
    "sns.barplot(x=\"winners\", y=\"shot\", data=shot_selection_df,\n",
    "            label=\"Winners\", color=\"b\")\n",
    "\n",
    "# Add a legend and informative axis label\n",
    "ax.legend(ncol=2, loc=\"lower right\", frameon=True)\n",
    "ax.set(xlim=(0, 65000), ylabel=\"Shot Type\",\n",
    "       xlabel=\"Counts\")\n",
    "\n",
    "# get label text\n",
    "_, xlabels = plt.xticks()\n",
    "\n",
    "# set the x-labels with\n",
    "ax.set_xticklabels(xlabels, size=30)\n",
    "\n",
    "# get label text\n",
    "_, ylabels = plt.yticks()\n",
    "\n",
    "# set the y-labels with\n",
    "ax.set_yticklabels(ylabels, size=30)\n",
    "\n",
    "sns.despine(left=True, bottom=True)"
   ]
  },
  {
   "cell_type": "code",
   "execution_count": 59,
   "id": "da153473",
   "metadata": {},
   "outputs": [],
   "source": [
    "f.savefig(\"shot_fig_flipped.png\")"
   ]
  },
  {
   "cell_type": "markdown",
   "id": "6ebdaee0",
   "metadata": {},
   "source": [
    "### Percentages"
   ]
  },
  {
   "cell_type": "code",
   "execution_count": 24,
   "id": "e42ffc2b",
   "metadata": {},
   "outputs": [],
   "source": [
    "shot_selection_df['winner_percentage'] = shot_selection_df['winners']/shot_selection_df['total']"
   ]
  },
  {
   "cell_type": "code",
   "execution_count": 25,
   "id": "d6f27de5",
   "metadata": {},
   "outputs": [
    {
     "data": {
      "text/html": [
       "<div>\n",
       "<style scoped>\n",
       "    .dataframe tbody tr th:only-of-type {\n",
       "        vertical-align: middle;\n",
       "    }\n",
       "\n",
       "    .dataframe tbody tr th {\n",
       "        vertical-align: top;\n",
       "    }\n",
       "\n",
       "    .dataframe thead th {\n",
       "        text-align: right;\n",
       "    }\n",
       "</style>\n",
       "<table border=\"1\" class=\"dataframe\">\n",
       "  <thead>\n",
       "    <tr style=\"text-align: right;\">\n",
       "      <th></th>\n",
       "      <th>shot</th>\n",
       "      <th>total</th>\n",
       "      <th>winners</th>\n",
       "      <th>winner_percentage</th>\n",
       "    </tr>\n",
       "  </thead>\n",
       "  <tbody>\n",
       "    <tr>\n",
       "      <th>0</th>\n",
       "      <td>fh gs</td>\n",
       "      <td>63776</td>\n",
       "      <td>4865</td>\n",
       "      <td>0.076283</td>\n",
       "    </tr>\n",
       "    <tr>\n",
       "      <th>1</th>\n",
       "      <td>bh gs</td>\n",
       "      <td>49124</td>\n",
       "      <td>2681</td>\n",
       "      <td>0.054576</td>\n",
       "    </tr>\n",
       "    <tr>\n",
       "      <th>4</th>\n",
       "      <td>fh volley</td>\n",
       "      <td>6178</td>\n",
       "      <td>2122</td>\n",
       "      <td>0.343477</td>\n",
       "    </tr>\n",
       "    <tr>\n",
       "      <th>5</th>\n",
       "      <td>bh volley</td>\n",
       "      <td>7183</td>\n",
       "      <td>1896</td>\n",
       "      <td>0.263957</td>\n",
       "    </tr>\n",
       "    <tr>\n",
       "      <th>6</th>\n",
       "      <td>oh smash</td>\n",
       "      <td>1978</td>\n",
       "      <td>1221</td>\n",
       "      <td>0.617290</td>\n",
       "    </tr>\n",
       "    <tr>\n",
       "      <th>3</th>\n",
       "      <td>bh slice</td>\n",
       "      <td>22149</td>\n",
       "      <td>311</td>\n",
       "      <td>0.014041</td>\n",
       "    </tr>\n",
       "    <tr>\n",
       "      <th>18</th>\n",
       "      <td>challenge</td>\n",
       "      <td>2916</td>\n",
       "      <td>244</td>\n",
       "      <td>0.083676</td>\n",
       "    </tr>\n",
       "    <tr>\n",
       "      <th>8</th>\n",
       "      <td>fh drop</td>\n",
       "      <td>667</td>\n",
       "      <td>165</td>\n",
       "      <td>0.247376</td>\n",
       "    </tr>\n",
       "    <tr>\n",
       "      <th>14</th>\n",
       "      <td>fh sv</td>\n",
       "      <td>302</td>\n",
       "      <td>139</td>\n",
       "      <td>0.460265</td>\n",
       "    </tr>\n",
       "    <tr>\n",
       "      <th>9</th>\n",
       "      <td>bh drop</td>\n",
       "      <td>889</td>\n",
       "      <td>138</td>\n",
       "      <td>0.155231</td>\n",
       "    </tr>\n",
       "    <tr>\n",
       "      <th>11</th>\n",
       "      <td>bh lob</td>\n",
       "      <td>2260</td>\n",
       "      <td>111</td>\n",
       "      <td>0.049115</td>\n",
       "    </tr>\n",
       "    <tr>\n",
       "      <th>10</th>\n",
       "      <td>fh lob</td>\n",
       "      <td>1124</td>\n",
       "      <td>93</td>\n",
       "      <td>0.082740</td>\n",
       "    </tr>\n",
       "    <tr>\n",
       "      <th>2</th>\n",
       "      <td>fh slice</td>\n",
       "      <td>4477</td>\n",
       "      <td>91</td>\n",
       "      <td>0.020326</td>\n",
       "    </tr>\n",
       "    <tr>\n",
       "      <th>12</th>\n",
       "      <td>fh hv</td>\n",
       "      <td>1116</td>\n",
       "      <td>81</td>\n",
       "      <td>0.072581</td>\n",
       "    </tr>\n",
       "    <tr>\n",
       "      <th>13</th>\n",
       "      <td>bh hv</td>\n",
       "      <td>1236</td>\n",
       "      <td>65</td>\n",
       "      <td>0.052589</td>\n",
       "    </tr>\n",
       "    <tr>\n",
       "      <th>7</th>\n",
       "      <td>bh smash</td>\n",
       "      <td>212</td>\n",
       "      <td>61</td>\n",
       "      <td>0.287736</td>\n",
       "    </tr>\n",
       "    <tr>\n",
       "      <th>15</th>\n",
       "      <td>bh sv</td>\n",
       "      <td>71</td>\n",
       "      <td>29</td>\n",
       "      <td>0.408451</td>\n",
       "    </tr>\n",
       "    <tr>\n",
       "      <th>17</th>\n",
       "      <td>unknown</td>\n",
       "      <td>134</td>\n",
       "      <td>10</td>\n",
       "      <td>0.074627</td>\n",
       "    </tr>\n",
       "    <tr>\n",
       "      <th>16</th>\n",
       "      <td>trickshot</td>\n",
       "      <td>99</td>\n",
       "      <td>2</td>\n",
       "      <td>0.020202</td>\n",
       "    </tr>\n",
       "  </tbody>\n",
       "</table>\n",
       "</div>"
      ],
      "text/plain": [
       "         shot  total  winners  winner_percentage\n",
       "0       fh gs  63776     4865           0.076283\n",
       "1       bh gs  49124     2681           0.054576\n",
       "4   fh volley   6178     2122           0.343477\n",
       "5   bh volley   7183     1896           0.263957\n",
       "6    oh smash   1978     1221           0.617290\n",
       "3    bh slice  22149      311           0.014041\n",
       "18  challenge   2916      244           0.083676\n",
       "8     fh drop    667      165           0.247376\n",
       "14      fh sv    302      139           0.460265\n",
       "9     bh drop    889      138           0.155231\n",
       "11     bh lob   2260      111           0.049115\n",
       "10     fh lob   1124       93           0.082740\n",
       "2    fh slice   4477       91           0.020326\n",
       "12      fh hv   1116       81           0.072581\n",
       "13      bh hv   1236       65           0.052589\n",
       "7    bh smash    212       61           0.287736\n",
       "15      bh sv     71       29           0.408451\n",
       "17    unknown    134       10           0.074627\n",
       "16  trickshot     99        2           0.020202"
      ]
     },
     "execution_count": 25,
     "metadata": {},
     "output_type": "execute_result"
    }
   ],
   "source": [
    "shot_selection_df.sort_values(\"winners\", ascending=False)"
   ]
  },
  {
   "cell_type": "code",
   "execution_count": 26,
   "id": "119c5cf3",
   "metadata": {},
   "outputs": [
    {
     "data": {
      "text/html": [
       "<div>\n",
       "<style scoped>\n",
       "    .dataframe tbody tr th:only-of-type {\n",
       "        vertical-align: middle;\n",
       "    }\n",
       "\n",
       "    .dataframe tbody tr th {\n",
       "        vertical-align: top;\n",
       "    }\n",
       "\n",
       "    .dataframe thead th {\n",
       "        text-align: right;\n",
       "    }\n",
       "</style>\n",
       "<table border=\"1\" class=\"dataframe\">\n",
       "  <thead>\n",
       "    <tr style=\"text-align: right;\">\n",
       "      <th></th>\n",
       "      <th>shot</th>\n",
       "      <th>total</th>\n",
       "      <th>winners</th>\n",
       "      <th>winner_percentage</th>\n",
       "    </tr>\n",
       "  </thead>\n",
       "  <tbody>\n",
       "    <tr>\n",
       "      <th>0</th>\n",
       "      <td>fh gs</td>\n",
       "      <td>63776</td>\n",
       "      <td>4865</td>\n",
       "      <td>0.076283</td>\n",
       "    </tr>\n",
       "    <tr>\n",
       "      <th>1</th>\n",
       "      <td>bh gs</td>\n",
       "      <td>49124</td>\n",
       "      <td>2681</td>\n",
       "      <td>0.054576</td>\n",
       "    </tr>\n",
       "    <tr>\n",
       "      <th>3</th>\n",
       "      <td>bh slice</td>\n",
       "      <td>22149</td>\n",
       "      <td>311</td>\n",
       "      <td>0.014041</td>\n",
       "    </tr>\n",
       "    <tr>\n",
       "      <th>5</th>\n",
       "      <td>bh volley</td>\n",
       "      <td>7183</td>\n",
       "      <td>1896</td>\n",
       "      <td>0.263957</td>\n",
       "    </tr>\n",
       "    <tr>\n",
       "      <th>4</th>\n",
       "      <td>fh volley</td>\n",
       "      <td>6178</td>\n",
       "      <td>2122</td>\n",
       "      <td>0.343477</td>\n",
       "    </tr>\n",
       "    <tr>\n",
       "      <th>2</th>\n",
       "      <td>fh slice</td>\n",
       "      <td>4477</td>\n",
       "      <td>91</td>\n",
       "      <td>0.020326</td>\n",
       "    </tr>\n",
       "    <tr>\n",
       "      <th>18</th>\n",
       "      <td>challenge</td>\n",
       "      <td>2916</td>\n",
       "      <td>244</td>\n",
       "      <td>0.083676</td>\n",
       "    </tr>\n",
       "    <tr>\n",
       "      <th>11</th>\n",
       "      <td>bh lob</td>\n",
       "      <td>2260</td>\n",
       "      <td>111</td>\n",
       "      <td>0.049115</td>\n",
       "    </tr>\n",
       "    <tr>\n",
       "      <th>6</th>\n",
       "      <td>oh smash</td>\n",
       "      <td>1978</td>\n",
       "      <td>1221</td>\n",
       "      <td>0.617290</td>\n",
       "    </tr>\n",
       "    <tr>\n",
       "      <th>13</th>\n",
       "      <td>bh hv</td>\n",
       "      <td>1236</td>\n",
       "      <td>65</td>\n",
       "      <td>0.052589</td>\n",
       "    </tr>\n",
       "    <tr>\n",
       "      <th>10</th>\n",
       "      <td>fh lob</td>\n",
       "      <td>1124</td>\n",
       "      <td>93</td>\n",
       "      <td>0.082740</td>\n",
       "    </tr>\n",
       "    <tr>\n",
       "      <th>12</th>\n",
       "      <td>fh hv</td>\n",
       "      <td>1116</td>\n",
       "      <td>81</td>\n",
       "      <td>0.072581</td>\n",
       "    </tr>\n",
       "    <tr>\n",
       "      <th>9</th>\n",
       "      <td>bh drop</td>\n",
       "      <td>889</td>\n",
       "      <td>138</td>\n",
       "      <td>0.155231</td>\n",
       "    </tr>\n",
       "    <tr>\n",
       "      <th>8</th>\n",
       "      <td>fh drop</td>\n",
       "      <td>667</td>\n",
       "      <td>165</td>\n",
       "      <td>0.247376</td>\n",
       "    </tr>\n",
       "    <tr>\n",
       "      <th>14</th>\n",
       "      <td>fh sv</td>\n",
       "      <td>302</td>\n",
       "      <td>139</td>\n",
       "      <td>0.460265</td>\n",
       "    </tr>\n",
       "    <tr>\n",
       "      <th>7</th>\n",
       "      <td>bh smash</td>\n",
       "      <td>212</td>\n",
       "      <td>61</td>\n",
       "      <td>0.287736</td>\n",
       "    </tr>\n",
       "    <tr>\n",
       "      <th>17</th>\n",
       "      <td>unknown</td>\n",
       "      <td>134</td>\n",
       "      <td>10</td>\n",
       "      <td>0.074627</td>\n",
       "    </tr>\n",
       "    <tr>\n",
       "      <th>16</th>\n",
       "      <td>trickshot</td>\n",
       "      <td>99</td>\n",
       "      <td>2</td>\n",
       "      <td>0.020202</td>\n",
       "    </tr>\n",
       "    <tr>\n",
       "      <th>15</th>\n",
       "      <td>bh sv</td>\n",
       "      <td>71</td>\n",
       "      <td>29</td>\n",
       "      <td>0.408451</td>\n",
       "    </tr>\n",
       "  </tbody>\n",
       "</table>\n",
       "</div>"
      ],
      "text/plain": [
       "         shot  total  winners  winner_percentage\n",
       "0       fh gs  63776     4865           0.076283\n",
       "1       bh gs  49124     2681           0.054576\n",
       "3    bh slice  22149      311           0.014041\n",
       "5   bh volley   7183     1896           0.263957\n",
       "4   fh volley   6178     2122           0.343477\n",
       "2    fh slice   4477       91           0.020326\n",
       "18  challenge   2916      244           0.083676\n",
       "11     bh lob   2260      111           0.049115\n",
       "6    oh smash   1978     1221           0.617290\n",
       "13      bh hv   1236       65           0.052589\n",
       "10     fh lob   1124       93           0.082740\n",
       "12      fh hv   1116       81           0.072581\n",
       "9     bh drop    889      138           0.155231\n",
       "8     fh drop    667      165           0.247376\n",
       "14      fh sv    302      139           0.460265\n",
       "7    bh smash    212       61           0.287736\n",
       "17    unknown    134       10           0.074627\n",
       "16  trickshot     99        2           0.020202\n",
       "15      bh sv     71       29           0.408451"
      ]
     },
     "execution_count": 26,
     "metadata": {},
     "output_type": "execute_result"
    }
   ],
   "source": [
    "shot_selection_df.sort_values(\"total\", ascending=False)"
   ]
  },
  {
   "cell_type": "code",
   "execution_count": 27,
   "id": "40eae9c3",
   "metadata": {
    "scrolled": false
   },
   "outputs": [
    {
     "data": {
      "text/html": [
       "<div>\n",
       "<style scoped>\n",
       "    .dataframe tbody tr th:only-of-type {\n",
       "        vertical-align: middle;\n",
       "    }\n",
       "\n",
       "    .dataframe tbody tr th {\n",
       "        vertical-align: top;\n",
       "    }\n",
       "\n",
       "    .dataframe thead th {\n",
       "        text-align: right;\n",
       "    }\n",
       "</style>\n",
       "<table border=\"1\" class=\"dataframe\">\n",
       "  <thead>\n",
       "    <tr style=\"text-align: right;\">\n",
       "      <th></th>\n",
       "      <th>shot</th>\n",
       "      <th>total</th>\n",
       "      <th>winners</th>\n",
       "      <th>winner_percentage</th>\n",
       "    </tr>\n",
       "  </thead>\n",
       "  <tbody>\n",
       "    <tr>\n",
       "      <th>6</th>\n",
       "      <td>oh smash</td>\n",
       "      <td>1978</td>\n",
       "      <td>1221</td>\n",
       "      <td>0.617290</td>\n",
       "    </tr>\n",
       "    <tr>\n",
       "      <th>14</th>\n",
       "      <td>fh sv</td>\n",
       "      <td>302</td>\n",
       "      <td>139</td>\n",
       "      <td>0.460265</td>\n",
       "    </tr>\n",
       "    <tr>\n",
       "      <th>15</th>\n",
       "      <td>bh sv</td>\n",
       "      <td>71</td>\n",
       "      <td>29</td>\n",
       "      <td>0.408451</td>\n",
       "    </tr>\n",
       "    <tr>\n",
       "      <th>4</th>\n",
       "      <td>fh volley</td>\n",
       "      <td>6178</td>\n",
       "      <td>2122</td>\n",
       "      <td>0.343477</td>\n",
       "    </tr>\n",
       "    <tr>\n",
       "      <th>7</th>\n",
       "      <td>bh smash</td>\n",
       "      <td>212</td>\n",
       "      <td>61</td>\n",
       "      <td>0.287736</td>\n",
       "    </tr>\n",
       "    <tr>\n",
       "      <th>5</th>\n",
       "      <td>bh volley</td>\n",
       "      <td>7183</td>\n",
       "      <td>1896</td>\n",
       "      <td>0.263957</td>\n",
       "    </tr>\n",
       "    <tr>\n",
       "      <th>8</th>\n",
       "      <td>fh drop</td>\n",
       "      <td>667</td>\n",
       "      <td>165</td>\n",
       "      <td>0.247376</td>\n",
       "    </tr>\n",
       "    <tr>\n",
       "      <th>9</th>\n",
       "      <td>bh drop</td>\n",
       "      <td>889</td>\n",
       "      <td>138</td>\n",
       "      <td>0.155231</td>\n",
       "    </tr>\n",
       "    <tr>\n",
       "      <th>18</th>\n",
       "      <td>challenge</td>\n",
       "      <td>2916</td>\n",
       "      <td>244</td>\n",
       "      <td>0.083676</td>\n",
       "    </tr>\n",
       "    <tr>\n",
       "      <th>10</th>\n",
       "      <td>fh lob</td>\n",
       "      <td>1124</td>\n",
       "      <td>93</td>\n",
       "      <td>0.082740</td>\n",
       "    </tr>\n",
       "    <tr>\n",
       "      <th>0</th>\n",
       "      <td>fh gs</td>\n",
       "      <td>63776</td>\n",
       "      <td>4865</td>\n",
       "      <td>0.076283</td>\n",
       "    </tr>\n",
       "    <tr>\n",
       "      <th>17</th>\n",
       "      <td>unknown</td>\n",
       "      <td>134</td>\n",
       "      <td>10</td>\n",
       "      <td>0.074627</td>\n",
       "    </tr>\n",
       "    <tr>\n",
       "      <th>12</th>\n",
       "      <td>fh hv</td>\n",
       "      <td>1116</td>\n",
       "      <td>81</td>\n",
       "      <td>0.072581</td>\n",
       "    </tr>\n",
       "    <tr>\n",
       "      <th>1</th>\n",
       "      <td>bh gs</td>\n",
       "      <td>49124</td>\n",
       "      <td>2681</td>\n",
       "      <td>0.054576</td>\n",
       "    </tr>\n",
       "    <tr>\n",
       "      <th>13</th>\n",
       "      <td>bh hv</td>\n",
       "      <td>1236</td>\n",
       "      <td>65</td>\n",
       "      <td>0.052589</td>\n",
       "    </tr>\n",
       "    <tr>\n",
       "      <th>11</th>\n",
       "      <td>bh lob</td>\n",
       "      <td>2260</td>\n",
       "      <td>111</td>\n",
       "      <td>0.049115</td>\n",
       "    </tr>\n",
       "    <tr>\n",
       "      <th>2</th>\n",
       "      <td>fh slice</td>\n",
       "      <td>4477</td>\n",
       "      <td>91</td>\n",
       "      <td>0.020326</td>\n",
       "    </tr>\n",
       "    <tr>\n",
       "      <th>16</th>\n",
       "      <td>trickshot</td>\n",
       "      <td>99</td>\n",
       "      <td>2</td>\n",
       "      <td>0.020202</td>\n",
       "    </tr>\n",
       "    <tr>\n",
       "      <th>3</th>\n",
       "      <td>bh slice</td>\n",
       "      <td>22149</td>\n",
       "      <td>311</td>\n",
       "      <td>0.014041</td>\n",
       "    </tr>\n",
       "  </tbody>\n",
       "</table>\n",
       "</div>"
      ],
      "text/plain": [
       "         shot  total  winners  winner_percentage\n",
       "6    oh smash   1978     1221           0.617290\n",
       "14      fh sv    302      139           0.460265\n",
       "15      bh sv     71       29           0.408451\n",
       "4   fh volley   6178     2122           0.343477\n",
       "7    bh smash    212       61           0.287736\n",
       "5   bh volley   7183     1896           0.263957\n",
       "8     fh drop    667      165           0.247376\n",
       "9     bh drop    889      138           0.155231\n",
       "18  challenge   2916      244           0.083676\n",
       "10     fh lob   1124       93           0.082740\n",
       "0       fh gs  63776     4865           0.076283\n",
       "17    unknown    134       10           0.074627\n",
       "12      fh hv   1116       81           0.072581\n",
       "1       bh gs  49124     2681           0.054576\n",
       "13      bh hv   1236       65           0.052589\n",
       "11     bh lob   2260      111           0.049115\n",
       "2    fh slice   4477       91           0.020326\n",
       "16  trickshot     99        2           0.020202\n",
       "3    bh slice  22149      311           0.014041"
      ]
     },
     "execution_count": 27,
     "metadata": {},
     "output_type": "execute_result"
    }
   ],
   "source": [
    "shot_selection_df.sort_values(\"winner_percentage\", ascending=False)"
   ]
  },
  {
   "cell_type": "markdown",
   "id": "da063a3b",
   "metadata": {},
   "source": [
    "## Last 2 shots"
   ]
  },
  {
   "cell_type": "code",
   "execution_count": 61,
   "id": "b6e1b81c",
   "metadata": {},
   "outputs": [
    {
     "data": {
      "text/plain": [
       "{'f': [4865, 63776, 'fh gs'],\n",
       " 'b': [2681, 49124, 'bh gs'],\n",
       " 'r': [91, 4477, 'fh slice'],\n",
       " 's': [311, 22149, 'bh slice'],\n",
       " 'v': [2122, 6178, 'fh volley'],\n",
       " 'z': [1896, 7183, 'bh volley'],\n",
       " 'o': [1221, 1978, 'oh smash'],\n",
       " 'p': [61, 212, 'bh smash'],\n",
       " 'u': [165, 667, 'fh drop'],\n",
       " 'y': [138, 889, 'bh drop'],\n",
       " 'l': [93, 1124, 'fh lob'],\n",
       " 'm': [111, 2260, 'bh lob'],\n",
       " 'h': [81, 1116, 'fh hv'],\n",
       " 'i': [65, 1236, 'bh hv'],\n",
       " 'j': [139, 302, 'fh sv'],\n",
       " 'k': [29, 71, 'bh sv'],\n",
       " 't': [2, 99, 'trickshot'],\n",
       " 'q': [10, 134, 'unknown'],\n",
       " 'c': [244, 2916, 'challenge']}"
      ]
     },
     "execution_count": 61,
     "metadata": {},
     "output_type": "execute_result"
    }
   ],
   "source": [
    "shot_map"
   ]
  },
  {
   "cell_type": "code",
   "execution_count": 72,
   "id": "9e4fe516",
   "metadata": {},
   "outputs": [],
   "source": [
    "shot_regex = '[fbrsvzopuylmhijktqc]'\n",
    "shot_and_direction = '[fbrsvzopuylmhijktqc][123]'"
   ]
  },
  {
   "cell_type": "code",
   "execution_count": 67,
   "id": "343756e3",
   "metadata": {},
   "outputs": [],
   "source": [
    "match = re.findall(shot_regex, '6+s28z2m1o3*', flags=0)"
   ]
  },
  {
   "cell_type": "code",
   "execution_count": 74,
   "id": "89c848dc",
   "metadata": {},
   "outputs": [
    {
     "data": {
      "text/plain": [
       "'m'"
      ]
     },
     "execution_count": 74,
     "metadata": {},
     "output_type": "execute_result"
    }
   ],
   "source": [
    "match[-2]"
   ]
  },
  {
   "cell_type": "code",
   "execution_count": 79,
   "id": "9267278a",
   "metadata": {},
   "outputs": [],
   "source": [
    "winning_sequence = []\n",
    "for rally in winning_shots:\n",
    "    shots = re.findall(shot_and_direction, rally, flags=0)\n",
    "    if len(shots) > 2:\n",
    "        winning_sequence.append({\n",
    "            'rally': rally,\n",
    "            'receiving_shot': shots[-2],\n",
    "            'winning_shot': shots[-1], \n",
    "            'combined': shots[-2] + shots[-1]\n",
    "        })"
   ]
  },
  {
   "cell_type": "code",
   "execution_count": 80,
   "id": "358b4f78",
   "metadata": {},
   "outputs": [],
   "source": [
    "winning_sequence_df = pd.DataFrame(winning_sequence)"
   ]
  },
  {
   "cell_type": "code",
   "execution_count": 101,
   "id": "50b93d4a",
   "metadata": {},
   "outputs": [
    {
     "data": {
      "text/html": [
       "<div>\n",
       "<style scoped>\n",
       "    .dataframe tbody tr th:only-of-type {\n",
       "        vertical-align: middle;\n",
       "    }\n",
       "\n",
       "    .dataframe tbody tr th {\n",
       "        vertical-align: top;\n",
       "    }\n",
       "\n",
       "    .dataframe thead th {\n",
       "        text-align: right;\n",
       "    }\n",
       "</style>\n",
       "<table border=\"1\" class=\"dataframe\">\n",
       "  <thead>\n",
       "    <tr style=\"text-align: right;\">\n",
       "      <th></th>\n",
       "      <th>rally</th>\n",
       "      <th>receiving_shot</th>\n",
       "      <th>winning_shot</th>\n",
       "      <th>combined</th>\n",
       "    </tr>\n",
       "  </thead>\n",
       "  <tbody>\n",
       "    <tr>\n",
       "      <th>0</th>\n",
       "      <td>6f2f2b2b3*</td>\n",
       "      <td>b2</td>\n",
       "      <td>b3</td>\n",
       "      <td>b2b3</td>\n",
       "    </tr>\n",
       "    <tr>\n",
       "      <th>1</th>\n",
       "      <td>4b2f3s2f+2b2v1f1*</td>\n",
       "      <td>v1</td>\n",
       "      <td>f1</td>\n",
       "      <td>v1f1</td>\n",
       "    </tr>\n",
       "    <tr>\n",
       "      <th>2</th>\n",
       "      <td>6s2f+3s2o1*</td>\n",
       "      <td>s2</td>\n",
       "      <td>o1</td>\n",
       "      <td>s2o1</td>\n",
       "    </tr>\n",
       "    <tr>\n",
       "      <th>3</th>\n",
       "      <td>5f2f3s3f3s2f1f2f2b2b3s1f2f1f1f3*</td>\n",
       "      <td>f1</td>\n",
       "      <td>f3</td>\n",
       "      <td>f1f3</td>\n",
       "    </tr>\n",
       "    <tr>\n",
       "      <th>4</th>\n",
       "      <td>5b2f3b2f1f3b2f3*</td>\n",
       "      <td>b2</td>\n",
       "      <td>f3</td>\n",
       "      <td>b2f3</td>\n",
       "    </tr>\n",
       "    <tr>\n",
       "      <th>...</th>\n",
       "      <td>...</td>\n",
       "      <td>...</td>\n",
       "      <td>...</td>\n",
       "      <td>...</td>\n",
       "    </tr>\n",
       "    <tr>\n",
       "      <th>7480</th>\n",
       "      <td>4+s17z1m2o1*</td>\n",
       "      <td>m2</td>\n",
       "      <td>o1</td>\n",
       "      <td>m2o1</td>\n",
       "    </tr>\n",
       "    <tr>\n",
       "      <th>7481</th>\n",
       "      <td>4+s17z3f3*</td>\n",
       "      <td>z3</td>\n",
       "      <td>f3</td>\n",
       "      <td>z3f3</td>\n",
       "    </tr>\n",
       "    <tr>\n",
       "      <th>7482</th>\n",
       "      <td>5+f17z1b3v3*</td>\n",
       "      <td>b3</td>\n",
       "      <td>v3</td>\n",
       "      <td>b3v3</td>\n",
       "    </tr>\n",
       "    <tr>\n",
       "      <th>7483</th>\n",
       "      <td>6+s28z2m1o3*</td>\n",
       "      <td>m1</td>\n",
       "      <td>o3</td>\n",
       "      <td>m1o3</td>\n",
       "    </tr>\n",
       "    <tr>\n",
       "      <th>7484</th>\n",
       "      <td>4+s27v3l2o1m1o3*</td>\n",
       "      <td>m1</td>\n",
       "      <td>o3</td>\n",
       "      <td>m1o3</td>\n",
       "    </tr>\n",
       "  </tbody>\n",
       "</table>\n",
       "<p>7485 rows × 4 columns</p>\n",
       "</div>"
      ],
      "text/plain": [
       "                                 rally receiving_shot winning_shot combined\n",
       "0                           6f2f2b2b3*             b2           b3     b2b3\n",
       "1                    4b2f3s2f+2b2v1f1*             v1           f1     v1f1\n",
       "2                          6s2f+3s2o1*             s2           o1     s2o1\n",
       "3     5f2f3s3f3s2f1f2f2b2b3s1f2f1f1f3*             f1           f3     f1f3\n",
       "4                     5b2f3b2f1f3b2f3*             b2           f3     b2f3\n",
       "...                                ...            ...          ...      ...\n",
       "7480                      4+s17z1m2o1*             m2           o1     m2o1\n",
       "7481                        4+s17z3f3*             z3           f3     z3f3\n",
       "7482                      5+f17z1b3v3*             b3           v3     b3v3\n",
       "7483                      6+s28z2m1o3*             m1           o3     m1o3\n",
       "7484                  4+s27v3l2o1m1o3*             m1           o3     m1o3\n",
       "\n",
       "[7485 rows x 4 columns]"
      ]
     },
     "execution_count": 101,
     "metadata": {},
     "output_type": "execute_result"
    }
   ],
   "source": [
    "# rallys of length greater than two\n",
    "winning_sequence_df"
   ]
  },
  {
   "cell_type": "code",
   "execution_count": 99,
   "id": "5737314a",
   "metadata": {},
   "outputs": [],
   "source": [
    "winning_sequence_counts = pd.DataFrame(winning_sequence_df['combined'].value_counts())"
   ]
  },
  {
   "cell_type": "code",
   "execution_count": 102,
   "id": "adba7e97",
   "metadata": {},
   "outputs": [],
   "source": [
    "winning_sequence_counts_top_ten = winning_sequence_counts.head(10)"
   ]
  },
  {
   "cell_type": "code",
   "execution_count": 104,
   "id": "3e9a9ff8",
   "metadata": {},
   "outputs": [
    {
     "name": "stderr",
     "output_type": "stream",
     "text": [
      "/var/folders/0w/7qj8hh4n3w53g1qsr8gf4s_w0000gn/T/ipykernel_39640/1416413489.py:1: SettingWithCopyWarning: \n",
      "A value is trying to be set on a copy of a slice from a DataFrame.\n",
      "Try using .loc[row_indexer,col_indexer] = value instead\n",
      "\n",
      "See the caveats in the documentation: https://pandas.pydata.org/pandas-docs/stable/user_guide/indexing.html#returning-a-view-versus-a-copy\n",
      "  winning_sequence_counts_top_ten['percentage of total winners'] = winning_sequence_counts_top_ten['combined'] / winning_sequence_df.shape[0]\n"
     ]
    }
   ],
   "source": [
    "winning_sequence_counts_top_ten['percentage of total winners'] = winning_sequence_counts_top_ten['combined'] / winning_sequence_df.shape[0] "
   ]
  },
  {
   "cell_type": "code",
   "execution_count": 105,
   "id": "3c9e7be3",
   "metadata": {},
   "outputs": [
    {
     "data": {
      "text/html": [
       "<div>\n",
       "<style scoped>\n",
       "    .dataframe tbody tr th:only-of-type {\n",
       "        vertical-align: middle;\n",
       "    }\n",
       "\n",
       "    .dataframe tbody tr th {\n",
       "        vertical-align: top;\n",
       "    }\n",
       "\n",
       "    .dataframe thead th {\n",
       "        text-align: right;\n",
       "    }\n",
       "</style>\n",
       "<table border=\"1\" class=\"dataframe\">\n",
       "  <thead>\n",
       "    <tr style=\"text-align: right;\">\n",
       "      <th></th>\n",
       "      <th>combined</th>\n",
       "      <th>percentage of total winners</th>\n",
       "    </tr>\n",
       "  </thead>\n",
       "  <tbody>\n",
       "    <tr>\n",
       "      <th>f1f3</th>\n",
       "      <td>197</td>\n",
       "      <td>0.026319</td>\n",
       "    </tr>\n",
       "    <tr>\n",
       "      <th>m2o1</th>\n",
       "      <td>197</td>\n",
       "      <td>0.026319</td>\n",
       "    </tr>\n",
       "    <tr>\n",
       "      <th>m2o3</th>\n",
       "      <td>162</td>\n",
       "      <td>0.021643</td>\n",
       "    </tr>\n",
       "    <tr>\n",
       "      <th>b1v1</th>\n",
       "      <td>152</td>\n",
       "      <td>0.020307</td>\n",
       "    </tr>\n",
       "    <tr>\n",
       "      <th>f1f1</th>\n",
       "      <td>135</td>\n",
       "      <td>0.018036</td>\n",
       "    </tr>\n",
       "    <tr>\n",
       "      <th>b2v1</th>\n",
       "      <td>117</td>\n",
       "      <td>0.015631</td>\n",
       "    </tr>\n",
       "    <tr>\n",
       "      <th>b3z1</th>\n",
       "      <td>110</td>\n",
       "      <td>0.014696</td>\n",
       "    </tr>\n",
       "    <tr>\n",
       "      <th>b2f1</th>\n",
       "      <td>108</td>\n",
       "      <td>0.014429</td>\n",
       "    </tr>\n",
       "    <tr>\n",
       "      <th>f3b1</th>\n",
       "      <td>107</td>\n",
       "      <td>0.014295</td>\n",
       "    </tr>\n",
       "    <tr>\n",
       "      <th>f3z3</th>\n",
       "      <td>104</td>\n",
       "      <td>0.013894</td>\n",
       "    </tr>\n",
       "  </tbody>\n",
       "</table>\n",
       "</div>"
      ],
      "text/plain": [
       "      combined  percentage of total winners\n",
       "f1f3       197                     0.026319\n",
       "m2o1       197                     0.026319\n",
       "m2o3       162                     0.021643\n",
       "b1v1       152                     0.020307\n",
       "f1f1       135                     0.018036\n",
       "b2v1       117                     0.015631\n",
       "b3z1       110                     0.014696\n",
       "b2f1       108                     0.014429\n",
       "f3b1       107                     0.014295\n",
       "f3z3       104                     0.013894"
      ]
     },
     "execution_count": 105,
     "metadata": {},
     "output_type": "execute_result"
    }
   ],
   "source": [
    "winning_sequence_counts_top_ten"
   ]
  },
  {
   "cell_type": "code",
   "execution_count": null,
   "id": "992e324d",
   "metadata": {},
   "outputs": [],
   "source": []
  }
 ],
 "metadata": {
  "kernelspec": {
   "display_name": "Python 3 (ipykernel)",
   "language": "python",
   "name": "python3"
  },
  "language_info": {
   "codemirror_mode": {
    "name": "ipython",
    "version": 3
   },
   "file_extension": ".py",
   "mimetype": "text/x-python",
   "name": "python",
   "nbconvert_exporter": "python",
   "pygments_lexer": "ipython3",
   "version": "3.9.2"
  }
 },
 "nbformat": 4,
 "nbformat_minor": 5
}
