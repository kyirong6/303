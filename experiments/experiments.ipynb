{
 "cells": [
  {
   "cell_type": "code",
   "execution_count": 11,
   "id": "3ff1ede5",
   "metadata": {},
   "outputs": [],
   "source": [
    "import pandas as pd\n",
    "import numpy as np\n",
    "import statsmodels.api as sm\n",
    "import re"
   ]
  },
  {
   "cell_type": "markdown",
   "id": "2e3d78f1",
   "metadata": {},
   "source": [
    "### Data"
   ]
  },
  {
   "cell_type": "code",
   "execution_count": 12,
   "id": "ed01761e",
   "metadata": {},
   "outputs": [
    {
     "name": "stderr",
     "output_type": "stream",
     "text": [
      "/var/folders/0w/7qj8hh4n3w53g1qsr8gf4s_w0000gn/T/ipykernel_1829/2249881497.py:1: DtypeWarning: Columns (8,9,29) have mixed types. Specify dtype option on import or set low_memory=False.\n",
      "  charting_df = pd.read_csv('data/charting-m-points.csv', encoding = \"ISO-8859-1\")\n"
     ]
    }
   ],
   "source": [
    "charting_df = pd.read_csv('data/charting-m-points.csv', encoding = \"ISO-8859-1\")"
   ]
  },
  {
   "cell_type": "code",
   "execution_count": 13,
   "id": "0502208d",
   "metadata": {
    "scrolled": true
   },
   "outputs": [
    {
     "data": {
      "text/html": [
       "<div>\n",
       "<style scoped>\n",
       "    .dataframe tbody tr th:only-of-type {\n",
       "        vertical-align: middle;\n",
       "    }\n",
       "\n",
       "    .dataframe tbody tr th {\n",
       "        vertical-align: top;\n",
       "    }\n",
       "\n",
       "    .dataframe thead th {\n",
       "        text-align: right;\n",
       "    }\n",
       "</style>\n",
       "<table border=\"1\" class=\"dataframe\">\n",
       "  <thead>\n",
       "    <tr style=\"text-align: right;\">\n",
       "      <th></th>\n",
       "      <th>match_id</th>\n",
       "      <th>Pt</th>\n",
       "      <th>Set1</th>\n",
       "      <th>Set2</th>\n",
       "      <th>Gm1</th>\n",
       "      <th>Gm2</th>\n",
       "      <th>Pts</th>\n",
       "      <th>Gm#</th>\n",
       "      <th>TbSet</th>\n",
       "      <th>TB?</th>\n",
       "      <th>...</th>\n",
       "      <th>2ndIn</th>\n",
       "      <th>isAce</th>\n",
       "      <th>isUnret</th>\n",
       "      <th>isRallyWinner</th>\n",
       "      <th>isForced</th>\n",
       "      <th>isUnforced</th>\n",
       "      <th>isDouble</th>\n",
       "      <th>PtWinner</th>\n",
       "      <th>isSvrWinner</th>\n",
       "      <th>rallyCount</th>\n",
       "    </tr>\n",
       "  </thead>\n",
       "  <tbody>\n",
       "    <tr>\n",
       "      <th>0</th>\n",
       "      <td>20220713-M-Newport-R16-Andy_Murray-Max_Purcell</td>\n",
       "      <td>1</td>\n",
       "      <td>0</td>\n",
       "      <td>0</td>\n",
       "      <td>0.0</td>\n",
       "      <td>0.0</td>\n",
       "      <td>0-0</td>\n",
       "      <td>1 (1)</td>\n",
       "      <td>1</td>\n",
       "      <td>0</td>\n",
       "      <td>...</td>\n",
       "      <td>NaN</td>\n",
       "      <td>False</td>\n",
       "      <td>False</td>\n",
       "      <td>False</td>\n",
       "      <td>False</td>\n",
       "      <td>False</td>\n",
       "      <td>False</td>\n",
       "      <td>1</td>\n",
       "      <td>1</td>\n",
       "      <td>1</td>\n",
       "    </tr>\n",
       "  </tbody>\n",
       "</table>\n",
       "<p>1 rows × 30 columns</p>\n",
       "</div>"
      ],
      "text/plain": [
       "                                         match_id  Pt  Set1  Set2  Gm1  Gm2  \\\n",
       "0  20220713-M-Newport-R16-Andy_Murray-Max_Purcell   1     0     0  0.0  0.0   \n",
       "\n",
       "   Pts    Gm# TbSet TB?  ...  2ndIn  isAce  isUnret isRallyWinner isForced  \\\n",
       "0  0-0  1 (1)     1   0  ...    NaN  False    False         False    False   \n",
       "\n",
       "  isUnforced isDouble  PtWinner  isSvrWinner  rallyCount  \n",
       "0      False    False         1            1           1  \n",
       "\n",
       "[1 rows x 30 columns]"
      ]
     },
     "execution_count": 13,
     "metadata": {},
     "output_type": "execute_result"
    }
   ],
   "source": [
    "charting_df.head(1)"
   ]
  },
  {
   "cell_type": "markdown",
   "id": "56f9cad6",
   "metadata": {},
   "source": [
    "### Exploration"
   ]
  },
  {
   "cell_type": "code",
   "execution_count": 14,
   "id": "f8d8edda",
   "metadata": {},
   "outputs": [],
   "source": [
    "wimbeldon_chart_df = charting_df[charting_df['match_id'].str.contains('Wimbledon')]"
   ]
  },
  {
   "cell_type": "markdown",
   "id": "74a1ae02",
   "metadata": {},
   "source": [
    "#### Winning Shot Statistics"
   ]
  },
  {
   "cell_type": "code",
   "execution_count": 15,
   "id": "888ff377",
   "metadata": {},
   "outputs": [],
   "source": [
    "# get rows for both 1st and 2nd\n",
    "wimbeldon_chart_1st = wimbeldon_chart_df[wimbeldon_chart_df['1st'].notna()]\n",
    "wimbeldon_chart_2nd = wimbeldon_chart_df[wimbeldon_chart_df['2nd'].notna()]"
   ]
  },
  {
   "cell_type": "code",
   "execution_count": 16,
   "id": "4d023cd1",
   "metadata": {},
   "outputs": [
    {
     "name": "stderr",
     "output_type": "stream",
     "text": [
      "/var/folders/0w/7qj8hh4n3w53g1qsr8gf4s_w0000gn/T/ipykernel_1829/3234859012.py:2: FutureWarning: The series.append method is deprecated and will be removed from pandas in a future version. Use pandas.concat instead.\n",
      "  rallys = rallys.append(wimbeldon_chart_2nd['2nd'])\n"
     ]
    }
   ],
   "source": [
    "rallys = wimbeldon_chart_1st['1st']\n",
    "rallys = rallys.append(wimbeldon_chart_2nd['2nd'])"
   ]
  },
  {
   "cell_type": "code",
   "execution_count": 17,
   "id": "c0bc0bf4",
   "metadata": {},
   "outputs": [
    {
     "data": {
      "text/plain": [
       "(78705,)"
      ]
     },
     "execution_count": 17,
     "metadata": {},
     "output_type": "execute_result"
    }
   ],
   "source": [
    "rallys.shape"
   ]
  },
  {
   "cell_type": "code",
   "execution_count": 18,
   "id": "7d3c5830",
   "metadata": {},
   "outputs": [],
   "source": [
    "# sequences of rallies that end with '*' represent a winner was hit\n",
    "# winners_df_1st = wimbeldon_chart_1st[wimbeldon_chart_1st['1st'].str.contains(\"\\*\")]\n",
    "# winners_df_2nd = wimbeldon_chart_2nd[wimbeldon_chart_2nd['2nd'].str.contains(\"\\*\")]\n",
    "winning_shots = rallys[rallys.str.contains(\"\\*\")]"
   ]
  },
  {
   "cell_type": "code",
   "execution_count": 19,
   "id": "20195a26",
   "metadata": {},
   "outputs": [],
   "source": [
    "#winners_df = winners_df_1st['1st']\n",
    "#winners_df = winners_df.append(winners_df_2nd['2nd'])"
   ]
  },
  {
   "cell_type": "code",
   "execution_count": 20,
   "id": "d5989bf8",
   "metadata": {},
   "outputs": [
    {
     "data": {
      "text/plain": [
       "(20290,)"
      ]
     },
     "execution_count": 20,
     "metadata": {},
     "output_type": "execute_result"
    }
   ],
   "source": [
    "winning_shots.shape"
   ]
  },
  {
   "cell_type": "code",
   "execution_count": 21,
   "id": "5c2e1589",
   "metadata": {},
   "outputs": [],
   "source": [
    "# 1st value: winners\n",
    "# 2nd value: total occurences of this shot selection in general\n",
    "shot_map = {\n",
    "    'f': [0, 0,'fh gs'],\n",
    "    'b': [0, 0,'bh gs'],\n",
    "    'r': [0, 0, 'fh slice'],\n",
    "    's': [0, 0, 'bh slice'],\n",
    "    'v': [0, 0,'fh volley'],\n",
    "    'z': [0, 0,'bh volley'],\n",
    "    'o': [0, 0,'oh smash'],\n",
    "    'p': [0, 0,'bh smash'],\n",
    "    'u': [0, 0,'fh drop'],\n",
    "    'y': [0, 0,'bh drop'],\n",
    "    'l': [0, 0,'fh lob'],\n",
    "    'm': [0, 0,'bh lob'],\n",
    "    'h': [0, 0,'fh hv'],\n",
    "    'i': [0, 0,'bh hv'],\n",
    "    'j': [0, 0,'fh sv'],\n",
    "    'k': [0, 0,'bh sv'],\n",
    "    't': [0, 0,'trickshot'],\n",
    "    'q': [0, 0,'unknown'],\n",
    "    'c': [0, 0,'challenge']\n",
    "}"
   ]
  },
  {
   "cell_type": "markdown",
   "id": "e85a7526",
   "metadata": {},
   "source": [
    "#### get winning shots"
   ]
  },
  {
   "cell_type": "code",
   "execution_count": 22,
   "id": "04a63486",
   "metadata": {},
   "outputs": [],
   "source": [
    "letter_regex = '[a-zA-Z]'"
   ]
  },
  {
   "cell_type": "code",
   "execution_count": 23,
   "id": "53881539",
   "metadata": {},
   "outputs": [],
   "source": [
    "num_of_winning_shots = 0\n",
    "for i in winning_shots:\n",
    "    if len(i) > 2: # ignore aces for now\n",
    "        winning_shot = i[-4:]\n",
    "        match = re.search(r'{letter_regex}'.format(letter_regex=letter_regex), winning_shot)\n",
    "        if match:\n",
    "            shot = match[0]\n",
    "            if shot == 'd':\n",
    "                winning_shot = i[-5:]\n",
    "                match = re.search(r'{letter_regex}'.format(letter_regex=letter_regex), winning_shot)  \n",
    "                shot = match[0]\n",
    "            num_of_winning_shots += 1\n",
    "            shot_map[shot.lower()][0] += 1\n",
    "            "
   ]
  },
  {
   "cell_type": "code",
   "execution_count": 24,
   "id": "6d03146d",
   "metadata": {},
   "outputs": [
    {
     "data": {
      "text/plain": [
       "{'f': [4865, 0, 'fh gs'],\n",
       " 'b': [2681, 0, 'bh gs'],\n",
       " 'r': [91, 0, 'fh slice'],\n",
       " 's': [311, 0, 'bh slice'],\n",
       " 'v': [2122, 0, 'fh volley'],\n",
       " 'z': [1896, 0, 'bh volley'],\n",
       " 'o': [1221, 0, 'oh smash'],\n",
       " 'p': [61, 0, 'bh smash'],\n",
       " 'u': [165, 0, 'fh drop'],\n",
       " 'y': [138, 0, 'bh drop'],\n",
       " 'l': [93, 0, 'fh lob'],\n",
       " 'm': [111, 0, 'bh lob'],\n",
       " 'h': [81, 0, 'fh hv'],\n",
       " 'i': [65, 0, 'bh hv'],\n",
       " 'j': [139, 0, 'fh sv'],\n",
       " 'k': [29, 0, 'bh sv'],\n",
       " 't': [2, 0, 'trickshot'],\n",
       " 'q': [10, 0, 'unknown'],\n",
       " 'c': [244, 0, 'challenge']}"
      ]
     },
     "execution_count": 24,
     "metadata": {},
     "output_type": "execute_result"
    }
   ],
   "source": [
    "shot_map"
   ]
  },
  {
   "cell_type": "markdown",
   "id": "8d97477f",
   "metadata": {},
   "source": [
    "#### get total occurences of shot in general and build df for viz"
   ]
  },
  {
   "cell_type": "code",
   "execution_count": 25,
   "id": "8144898d",
   "metadata": {},
   "outputs": [],
   "source": [
    "all_rallys_str = ''.join(list(rallys))"
   ]
  },
  {
   "cell_type": "code",
   "execution_count": 26,
   "id": "5c8f732d",
   "metadata": {},
   "outputs": [],
   "source": [
    "df = []\n",
    "for shot, stats in shot_map.items():\n",
    "    total_shots = all_rallys_str.count(shot)\n",
    "    stats[1] = total_shots\n",
    "    df.append({\n",
    "        'shot': stats[2],\n",
    "        'total': stats[1],\n",
    "        'winners': stats[0]\n",
    "    })"
   ]
  },
  {
   "cell_type": "code",
   "execution_count": 27,
   "id": "fbcd8027",
   "metadata": {},
   "outputs": [
    {
     "data": {
      "text/plain": [
       "{'f': [4865, 63776, 'fh gs'],\n",
       " 'b': [2681, 49124, 'bh gs'],\n",
       " 'r': [91, 4477, 'fh slice'],\n",
       " 's': [311, 22149, 'bh slice'],\n",
       " 'v': [2122, 6178, 'fh volley'],\n",
       " 'z': [1896, 7183, 'bh volley'],\n",
       " 'o': [1221, 1978, 'oh smash'],\n",
       " 'p': [61, 212, 'bh smash'],\n",
       " 'u': [165, 667, 'fh drop'],\n",
       " 'y': [138, 889, 'bh drop'],\n",
       " 'l': [93, 1124, 'fh lob'],\n",
       " 'm': [111, 2260, 'bh lob'],\n",
       " 'h': [81, 1116, 'fh hv'],\n",
       " 'i': [65, 1236, 'bh hv'],\n",
       " 'j': [139, 302, 'fh sv'],\n",
       " 'k': [29, 71, 'bh sv'],\n",
       " 't': [2, 99, 'trickshot'],\n",
       " 'q': [10, 134, 'unknown'],\n",
       " 'c': [244, 2916, 'challenge']}"
      ]
     },
     "execution_count": 27,
     "metadata": {},
     "output_type": "execute_result"
    }
   ],
   "source": [
    "shot_map"
   ]
  },
  {
   "cell_type": "code",
   "execution_count": 28,
   "id": "f546df1a",
   "metadata": {},
   "outputs": [],
   "source": [
    "shot_selection_df = pd.DataFrame(df)"
   ]
  },
  {
   "cell_type": "code",
   "execution_count": 29,
   "id": "b29780a6",
   "metadata": {},
   "outputs": [],
   "source": [
    "shot_selection_df =  shot_selection_df.sort_values(\"total\", ascending=False)"
   ]
  },
  {
   "cell_type": "code",
   "execution_count": 30,
   "id": "b22bc4ab",
   "metadata": {
    "scrolled": true
   },
   "outputs": [],
   "source": [
    "shot_selection_df = shot_selection_df[shot_selection_df['total']>=6000]"
   ]
  },
  {
   "cell_type": "markdown",
   "id": "e7bce137",
   "metadata": {},
   "source": [
    "### Plots"
   ]
  },
  {
   "cell_type": "markdown",
   "id": "6a32518e",
   "metadata": {},
   "source": [
    "#### regular"
   ]
  },
  {
   "cell_type": "code",
   "execution_count": 31,
   "id": "d22dc196",
   "metadata": {},
   "outputs": [
    {
     "name": "stderr",
     "output_type": "stream",
     "text": [
      "/var/folders/0w/7qj8hh4n3w53g1qsr8gf4s_w0000gn/T/ipykernel_1829/2384458608.py:33: UserWarning: FixedFormatter should only be used together with FixedLocator\n",
      "  ax.set_yticklabels(ylabels, size=22)\n"
     ]
    },
    {
     "data": {
      "image/png": "[encoded data removed]",
      "text/plain": [
       "<Figure size 3000x1500 with 1 Axes>"
      ]
     },
     "metadata": {},
     "output_type": "display_data"
    }
   ],
   "source": [
    "import seaborn as sns\n",
    "import matplotlib.pyplot as plt\n",
    "sns.set_theme(style=\"whitegrid\")\n",
    "\n",
    "# Initialize the matplotlib figure\n",
    "f, ax = plt.subplots(figsize=(30, 15))\n",
    "\n",
    "sns.set(font_scale=2)\n",
    "sns.set_color_codes(\"pastel\")\n",
    "sns.barplot(x=\"shot\", y=\"total\", data=shot_selection_df,\n",
    "            label=\"Total\", color=\"b\")\n",
    "\n",
    "\n",
    "sns.set_color_codes(\"muted\")\n",
    "sns.barplot(x=\"shot\", y=\"winners\", data=shot_selection_df,\n",
    "            label=\"Winners\", color=\"b\")\n",
    "\n",
    "# Add a legend and informative axis label\n",
    "ax.legend(ncol=2, loc=\"upper right\", frameon=True)\n",
    "ax.set(ylim=(0, 60000), ylabel=\"\",\n",
    "       xlabel=\"Total Number of Shot Types and Shot Winners in a Rally\")\n",
    "\n",
    "# get label text\n",
    "_, xlabels = plt.xticks()\n",
    "\n",
    "# set the x-labels with\n",
    "ax.set_xticklabels(xlabels, size=22)\n",
    "\n",
    "# get label text\n",
    "_, ylabels = plt.yticks()\n",
    "\n",
    "# set the y-labels with\n",
    "ax.set_yticklabels(ylabels, size=22)\n",
    "\n",
    "sns.despine(left=True, bottom=True)"
   ]
  },
  {
   "cell_type": "code",
   "execution_count": 32,
   "id": "329126dc",
   "metadata": {},
   "outputs": [],
   "source": [
    "f.savefig(\"shot_fig.png\")"
   ]
  },
  {
   "cell_type": "markdown",
   "id": "a7880ebb",
   "metadata": {},
   "source": [
    "#### flipped"
   ]
  },
  {
   "cell_type": "code",
   "execution_count": 33,
   "id": "0c7659a6",
   "metadata": {},
   "outputs": [
    {
     "name": "stderr",
     "output_type": "stream",
     "text": [
      "/var/folders/0w/7qj8hh4n3w53g1qsr8gf4s_w0000gn/T/ipykernel_1829/597388156.py:28: UserWarning: FixedFormatter should only be used together with FixedLocator\n",
      "  ax.set_xticklabels(xlabels, size=30)\n"
     ]
    },
    {
     "data": {
      "image/png": "[encoded data removed]",
      "text/plain": [
       "<Figure size 3000x1500 with 1 Axes>"
      ]
     },
     "metadata": {},
     "output_type": "display_data"
    }
   ],
   "source": [
    "import seaborn as sns\n",
    "import matplotlib.pyplot as plt\n",
    "sns.set_theme(style=\"whitegrid\")\n",
    "\n",
    "plt.rcParams[\"axes.labelsize\"] = 28\n",
    "# Initialize the matplotlib figure\n",
    "f, ax = plt.subplots(figsize=(30, 15))\n",
    "\n",
    "sns.set(font_scale=3)\n",
    "sns.set_color_codes(\"pastel\")\n",
    "sns.barplot(x=\"total\", y=\"shot\", data=shot_selection_df,\n",
    "            label=\"Total\", color=\"b\").set_title('Shot Types and Shot Winners in Rallys from Wimbledon 2022')\n",
    "\n",
    "\n",
    "sns.set_color_codes(\"muted\")\n",
    "sns.barplot(x=\"winners\", y=\"shot\", data=shot_selection_df,\n",
    "            label=\"Winners\", color=\"b\")\n",
    "\n",
    "# Add a legend and informative axis label\n",
    "ax.legend(ncol=2, loc=\"lower right\", frameon=True)\n",
    "ax.set(xlim=(0, 65000), ylabel=\"Shot Type\",\n",
    "       xlabel=\"Counts\")\n",
    "\n",
    "# get label text\n",
    "_, xlabels = plt.xticks()\n",
    "\n",
    "# set the x-labels with\n",
    "ax.set_xticklabels(xlabels, size=30)\n",
    "\n",
    "# get label text\n",
    "_, ylabels = plt.yticks()\n",
    "\n",
    "# set the y-labels with\n",
    "ax.set_yticklabels(ylabels, size=30)\n",
    "\n",
    "sns.despine(left=True, bottom=True)"
   ]
  },
  {
   "cell_type": "code",
   "execution_count": 34,
   "id": "da153473",
   "metadata": {},
   "outputs": [],
   "source": [
    "f.savefig(\"shot_fig_flipped.png\")"
   ]
  },
  {
   "cell_type": "markdown",
   "id": "6ebdaee0",
   "metadata": {},
   "source": [
    "### Percentages"
   ]
  },
  {
   "cell_type": "code",
   "execution_count": 35,
   "id": "e42ffc2b",
   "metadata": {},
   "outputs": [],
   "source": [
    "shot_selection_df['winner_percentage'] = shot_selection_df['winners']/shot_selection_df['total']"
   ]
  },
  {
   "cell_type": "code",
   "execution_count": 36,
   "id": "d6f27de5",
   "metadata": {},
   "outputs": [
    {
     "data": {
      "text/html": [
       "<div>\n",
       "<style scoped>\n",
       "    .dataframe tbody tr th:only-of-type {\n",
       "        vertical-align: middle;\n",
       "    }\n",
       "\n",
       "    .dataframe tbody tr th {\n",
       "        vertical-align: top;\n",
       "    }\n",
       "\n",
       "    .dataframe thead th {\n",
       "        text-align: right;\n",
       "    }\n",
       "</style>\n",
       "<table border=\"1\" class=\"dataframe\">\n",
       "  <thead>\n",
       "    <tr style=\"text-align: right;\">\n",
       "      <th></th>\n",
       "      <th>shot</th>\n",
       "      <th>total</th>\n",
       "      <th>winners</th>\n",
       "      <th>winner_percentage</th>\n",
       "    </tr>\n",
       "  </thead>\n",
       "  <tbody>\n",
       "    <tr>\n",
       "      <th>0</th>\n",
       "      <td>fh gs</td>\n",
       "      <td>63776</td>\n",
       "      <td>4865</td>\n",
       "      <td>0.076283</td>\n",
       "    </tr>\n",
       "    <tr>\n",
       "      <th>1</th>\n",
       "      <td>bh gs</td>\n",
       "      <td>49124</td>\n",
       "      <td>2681</td>\n",
       "      <td>0.054576</td>\n",
       "    </tr>\n",
       "    <tr>\n",
       "      <th>4</th>\n",
       "      <td>fh volley</td>\n",
       "      <td>6178</td>\n",
       "      <td>2122</td>\n",
       "      <td>0.343477</td>\n",
       "    </tr>\n",
       "    <tr>\n",
       "      <th>5</th>\n",
       "      <td>bh volley</td>\n",
       "      <td>7183</td>\n",
       "      <td>1896</td>\n",
       "      <td>0.263957</td>\n",
       "    </tr>\n",
       "    <tr>\n",
       "      <th>3</th>\n",
       "      <td>bh slice</td>\n",
       "      <td>22149</td>\n",
       "      <td>311</td>\n",
       "      <td>0.014041</td>\n",
       "    </tr>\n",
       "  </tbody>\n",
       "</table>\n",
       "</div>"
      ],
      "text/plain": [
       "        shot  total  winners  winner_percentage\n",
       "0      fh gs  63776     4865           0.076283\n",
       "1      bh gs  49124     2681           0.054576\n",
       "4  fh volley   6178     2122           0.343477\n",
       "5  bh volley   7183     1896           0.263957\n",
       "3   bh slice  22149      311           0.014041"
      ]
     },
     "execution_count": 36,
     "metadata": {},
     "output_type": "execute_result"
    }
   ],
   "source": [
    "shot_selection_df.sort_values(\"winners\", ascending=False)"
   ]
  },
  {
   "cell_type": "code",
   "execution_count": 37,
   "id": "119c5cf3",
   "metadata": {},
   "outputs": [
    {
     "data": {
      "text/html": [
       "<div>\n",
       "<style scoped>\n",
       "    .dataframe tbody tr th:only-of-type {\n",
       "        vertical-align: middle;\n",
       "    }\n",
       "\n",
       "    .dataframe tbody tr th {\n",
       "        vertical-align: top;\n",
       "    }\n",
       "\n",
       "    .dataframe thead th {\n",
       "        text-align: right;\n",
       "    }\n",
       "</style>\n",
       "<table border=\"1\" class=\"dataframe\">\n",
       "  <thead>\n",
       "    <tr style=\"text-align: right;\">\n",
       "      <th></th>\n",
       "      <th>shot</th>\n",
       "      <th>total</th>\n",
       "      <th>winners</th>\n",
       "      <th>winner_percentage</th>\n",
       "    </tr>\n",
       "  </thead>\n",
       "  <tbody>\n",
       "    <tr>\n",
       "      <th>0</th>\n",
       "      <td>fh gs</td>\n",
       "      <td>63776</td>\n",
       "      <td>4865</td>\n",
       "      <td>0.076283</td>\n",
       "    </tr>\n",
       "    <tr>\n",
       "      <th>1</th>\n",
       "      <td>bh gs</td>\n",
       "      <td>49124</td>\n",
       "      <td>2681</td>\n",
       "      <td>0.054576</td>\n",
       "    </tr>\n",
       "    <tr>\n",
       "      <th>3</th>\n",
       "      <td>bh slice</td>\n",
       "      <td>22149</td>\n",
       "      <td>311</td>\n",
       "      <td>0.014041</td>\n",
       "    </tr>\n",
       "    <tr>\n",
       "      <th>5</th>\n",
       "      <td>bh volley</td>\n",
       "      <td>7183</td>\n",
       "      <td>1896</td>\n",
       "      <td>0.263957</td>\n",
       "    </tr>\n",
       "    <tr>\n",
       "      <th>4</th>\n",
       "      <td>fh volley</td>\n",
       "      <td>6178</td>\n",
       "      <td>2122</td>\n",
       "      <td>0.343477</td>\n",
       "    </tr>\n",
       "  </tbody>\n",
       "</table>\n",
       "</div>"
      ],
      "text/plain": [
       "        shot  total  winners  winner_percentage\n",
       "0      fh gs  63776     4865           0.076283\n",
       "1      bh gs  49124     2681           0.054576\n",
       "3   bh slice  22149      311           0.014041\n",
       "5  bh volley   7183     1896           0.263957\n",
       "4  fh volley   6178     2122           0.343477"
      ]
     },
     "execution_count": 37,
     "metadata": {},
     "output_type": "execute_result"
    }
   ],
   "source": [
    "shot_selection_df.sort_values(\"total\", ascending=False)"
   ]
  },
  {
   "cell_type": "code",
   "execution_count": 38,
   "id": "40eae9c3",
   "metadata": {
    "scrolled": false
   },
   "outputs": [
    {
     "data": {
      "text/html": [
       "<div>\n",
       "<style scoped>\n",
       "    .dataframe tbody tr th:only-of-type {\n",
       "        vertical-align: middle;\n",
       "    }\n",
       "\n",
       "    .dataframe tbody tr th {\n",
       "        vertical-align: top;\n",
       "    }\n",
       "\n",
       "    .dataframe thead th {\n",
       "        text-align: right;\n",
       "    }\n",
       "</style>\n",
       "<table border=\"1\" class=\"dataframe\">\n",
       "  <thead>\n",
       "    <tr style=\"text-align: right;\">\n",
       "      <th></th>\n",
       "      <th>shot</th>\n",
       "      <th>total</th>\n",
       "      <th>winners</th>\n",
       "      <th>winner_percentage</th>\n",
       "    </tr>\n",
       "  </thead>\n",
       "  <tbody>\n",
       "    <tr>\n",
       "      <th>4</th>\n",
       "      <td>fh volley</td>\n",
       "      <td>6178</td>\n",
       "      <td>2122</td>\n",
       "      <td>0.343477</td>\n",
       "    </tr>\n",
       "    <tr>\n",
       "      <th>5</th>\n",
       "      <td>bh volley</td>\n",
       "      <td>7183</td>\n",
       "      <td>1896</td>\n",
       "      <td>0.263957</td>\n",
       "    </tr>\n",
       "    <tr>\n",
       "      <th>0</th>\n",
       "      <td>fh gs</td>\n",
       "      <td>63776</td>\n",
       "      <td>4865</td>\n",
       "      <td>0.076283</td>\n",
       "    </tr>\n",
       "    <tr>\n",
       "      <th>1</th>\n",
       "      <td>bh gs</td>\n",
       "      <td>49124</td>\n",
       "      <td>2681</td>\n",
       "      <td>0.054576</td>\n",
       "    </tr>\n",
       "    <tr>\n",
       "      <th>3</th>\n",
       "      <td>bh slice</td>\n",
       "      <td>22149</td>\n",
       "      <td>311</td>\n",
       "      <td>0.014041</td>\n",
       "    </tr>\n",
       "  </tbody>\n",
       "</table>\n",
       "</div>"
      ],
      "text/plain": [
       "        shot  total  winners  winner_percentage\n",
       "4  fh volley   6178     2122           0.343477\n",
       "5  bh volley   7183     1896           0.263957\n",
       "0      fh gs  63776     4865           0.076283\n",
       "1      bh gs  49124     2681           0.054576\n",
       "3   bh slice  22149      311           0.014041"
      ]
     },
     "execution_count": 38,
     "metadata": {},
     "output_type": "execute_result"
    }
   ],
   "source": [
    "shot_selection_df.sort_values(\"winner_percentage\", ascending=False)"
   ]
  },
  {
   "cell_type": "markdown",
   "id": "da063a3b",
   "metadata": {},
   "source": [
    "## Last 2 shots"
   ]
  },
  {
   "cell_type": "code",
   "execution_count": 39,
   "id": "b6e1b81c",
   "metadata": {},
   "outputs": [
    {
     "data": {
      "text/plain": [
       "{'f': [4865, 63776, 'fh gs'],\n",
       " 'b': [2681, 49124, 'bh gs'],\n",
       " 'r': [91, 4477, 'fh slice'],\n",
       " 's': [311, 22149, 'bh slice'],\n",
       " 'v': [2122, 6178, 'fh volley'],\n",
       " 'z': [1896, 7183, 'bh volley'],\n",
       " 'o': [1221, 1978, 'oh smash'],\n",
       " 'p': [61, 212, 'bh smash'],\n",
       " 'u': [165, 667, 'fh drop'],\n",
       " 'y': [138, 889, 'bh drop'],\n",
       " 'l': [93, 1124, 'fh lob'],\n",
       " 'm': [111, 2260, 'bh lob'],\n",
       " 'h': [81, 1116, 'fh hv'],\n",
       " 'i': [65, 1236, 'bh hv'],\n",
       " 'j': [139, 302, 'fh sv'],\n",
       " 'k': [29, 71, 'bh sv'],\n",
       " 't': [2, 99, 'trickshot'],\n",
       " 'q': [10, 134, 'unknown'],\n",
       " 'c': [244, 2916, 'challenge']}"
      ]
     },
     "execution_count": 39,
     "metadata": {},
     "output_type": "execute_result"
    }
   ],
   "source": [
    "shot_map"
   ]
  },
  {
   "cell_type": "code",
   "execution_count": 40,
   "id": "9e4fe516",
   "metadata": {},
   "outputs": [],
   "source": [
    "shot_regex = '[fbrsvzopuylmhijktqc]'\n",
    "shot_and_direction = '[fbrsvzopuylmhijktqc][123]'"
   ]
  },
  {
   "cell_type": "code",
   "execution_count": 41,
   "id": "343756e3",
   "metadata": {},
   "outputs": [],
   "source": [
    "match = re.findall(shot_regex, '6+s28z2m1o3*', flags=0)"
   ]
  },
  {
   "cell_type": "code",
   "execution_count": 54,
   "id": "5a2cecb3",
   "metadata": {},
   "outputs": [
    {
     "data": {
      "text/plain": [
       "['s', 'z', 'm', 'o']"
      ]
     },
     "execution_count": 54,
     "metadata": {},
     "output_type": "execute_result"
    }
   ],
   "source": [
    "match"
   ]
  },
  {
   "cell_type": "code",
   "execution_count": 42,
   "id": "89c848dc",
   "metadata": {},
   "outputs": [
    {
     "data": {
      "text/plain": [
       "'m'"
      ]
     },
     "execution_count": 42,
     "metadata": {},
     "output_type": "execute_result"
    }
   ],
   "source": [
    "match[-2]"
   ]
  },
  {
   "cell_type": "code",
   "execution_count": 43,
   "id": "9267278a",
   "metadata": {},
   "outputs": [],
   "source": [
    "winning_sequence = []\n",
    "for rally in winning_shots:\n",
    "    shots = re.findall(shot_and_direction, rally, flags=0)\n",
    "    if len(shots) > 2:\n",
    "        winning_sequence.append({\n",
    "            'rally': rally,\n",
    "            'receiving_shot': shots[-2],\n",
    "            'winning_shot': shots[-1], \n",
    "            'combined': shots[-2] + shots[-1]\n",
    "        })"
   ]
  },
  {
   "cell_type": "code",
   "execution_count": 44,
   "id": "358b4f78",
   "metadata": {},
   "outputs": [],
   "source": [
    "winning_sequence_df = pd.DataFrame(winning_sequence)"
   ]
  },
  {
   "cell_type": "code",
   "execution_count": 45,
   "id": "50b93d4a",
   "metadata": {},
   "outputs": [
    {
     "data": {
      "text/html": [
       "<div>\n",
       "<style scoped>\n",
       "    .dataframe tbody tr th:only-of-type {\n",
       "        vertical-align: middle;\n",
       "    }\n",
       "\n",
       "    .dataframe tbody tr th {\n",
       "        vertical-align: top;\n",
       "    }\n",
       "\n",
       "    .dataframe thead th {\n",
       "        text-align: right;\n",
       "    }\n",
       "</style>\n",
       "<table border=\"1\" class=\"dataframe\">\n",
       "  <thead>\n",
       "    <tr style=\"text-align: right;\">\n",
       "      <th></th>\n",
       "      <th>rally</th>\n",
       "      <th>receiving_shot</th>\n",
       "      <th>winning_shot</th>\n",
       "      <th>combined</th>\n",
       "    </tr>\n",
       "  </thead>\n",
       "  <tbody>\n",
       "    <tr>\n",
       "      <th>0</th>\n",
       "      <td>6f2f2b2b3*</td>\n",
       "      <td>b2</td>\n",
       "      <td>b3</td>\n",
       "      <td>b2b3</td>\n",
       "    </tr>\n",
       "    <tr>\n",
       "      <th>1</th>\n",
       "      <td>4b2f3s2f+2b2v1f1*</td>\n",
       "      <td>v1</td>\n",
       "      <td>f1</td>\n",
       "      <td>v1f1</td>\n",
       "    </tr>\n",
       "    <tr>\n",
       "      <th>2</th>\n",
       "      <td>6s2f+3s2o1*</td>\n",
       "      <td>s2</td>\n",
       "      <td>o1</td>\n",
       "      <td>s2o1</td>\n",
       "    </tr>\n",
       "    <tr>\n",
       "      <th>3</th>\n",
       "      <td>5f2f3s3f3s2f1f2f2b2b3s1f2f1f1f3*</td>\n",
       "      <td>f1</td>\n",
       "      <td>f3</td>\n",
       "      <td>f1f3</td>\n",
       "    </tr>\n",
       "    <tr>\n",
       "      <th>4</th>\n",
       "      <td>5b2f3b2f1f3b2f3*</td>\n",
       "      <td>b2</td>\n",
       "      <td>f3</td>\n",
       "      <td>b2f3</td>\n",
       "    </tr>\n",
       "    <tr>\n",
       "      <th>...</th>\n",
       "      <td>...</td>\n",
       "      <td>...</td>\n",
       "      <td>...</td>\n",
       "      <td>...</td>\n",
       "    </tr>\n",
       "    <tr>\n",
       "      <th>7480</th>\n",
       "      <td>4+s17z1m2o1*</td>\n",
       "      <td>m2</td>\n",
       "      <td>o1</td>\n",
       "      <td>m2o1</td>\n",
       "    </tr>\n",
       "    <tr>\n",
       "      <th>7481</th>\n",
       "      <td>4+s17z3f3*</td>\n",
       "      <td>z3</td>\n",
       "      <td>f3</td>\n",
       "      <td>z3f3</td>\n",
       "    </tr>\n",
       "    <tr>\n",
       "      <th>7482</th>\n",
       "      <td>5+f17z1b3v3*</td>\n",
       "      <td>b3</td>\n",
       "      <td>v3</td>\n",
       "      <td>b3v3</td>\n",
       "    </tr>\n",
       "    <tr>\n",
       "      <th>7483</th>\n",
       "      <td>6+s28z2m1o3*</td>\n",
       "      <td>m1</td>\n",
       "      <td>o3</td>\n",
       "      <td>m1o3</td>\n",
       "    </tr>\n",
       "    <tr>\n",
       "      <th>7484</th>\n",
       "      <td>4+s27v3l2o1m1o3*</td>\n",
       "      <td>m1</td>\n",
       "      <td>o3</td>\n",
       "      <td>m1o3</td>\n",
       "    </tr>\n",
       "  </tbody>\n",
       "</table>\n",
       "<p>7485 rows × 4 columns</p>\n",
       "</div>"
      ],
      "text/plain": [
       "                                 rally receiving_shot winning_shot combined\n",
       "0                           6f2f2b2b3*             b2           b3     b2b3\n",
       "1                    4b2f3s2f+2b2v1f1*             v1           f1     v1f1\n",
       "2                          6s2f+3s2o1*             s2           o1     s2o1\n",
       "3     5f2f3s3f3s2f1f2f2b2b3s1f2f1f1f3*             f1           f3     f1f3\n",
       "4                     5b2f3b2f1f3b2f3*             b2           f3     b2f3\n",
       "...                                ...            ...          ...      ...\n",
       "7480                      4+s17z1m2o1*             m2           o1     m2o1\n",
       "7481                        4+s17z3f3*             z3           f3     z3f3\n",
       "7482                      5+f17z1b3v3*             b3           v3     b3v3\n",
       "7483                      6+s28z2m1o3*             m1           o3     m1o3\n",
       "7484                  4+s27v3l2o1m1o3*             m1           o3     m1o3\n",
       "\n",
       "[7485 rows x 4 columns]"
      ]
     },
     "execution_count": 45,
     "metadata": {},
     "output_type": "execute_result"
    }
   ],
   "source": [
    "# rallys of length greater than two\n",
    "winning_sequence_df"
   ]
  },
  {
   "cell_type": "code",
   "execution_count": 46,
   "id": "5737314a",
   "metadata": {},
   "outputs": [],
   "source": [
    "winning_sequence_counts = pd.DataFrame(winning_sequence_df['combined'].value_counts())"
   ]
  },
  {
   "cell_type": "code",
   "execution_count": 47,
   "id": "adba7e97",
   "metadata": {},
   "outputs": [],
   "source": [
    "winning_sequence_counts_top_ten = winning_sequence_counts.head(10)"
   ]
  },
  {
   "cell_type": "code",
   "execution_count": 48,
   "id": "3e9a9ff8",
   "metadata": {},
   "outputs": [
    {
     "name": "stderr",
     "output_type": "stream",
     "text": [
      "/var/folders/0w/7qj8hh4n3w53g1qsr8gf4s_w0000gn/T/ipykernel_1829/1416413489.py:1: SettingWithCopyWarning: \n",
      "A value is trying to be set on a copy of a slice from a DataFrame.\n",
      "Try using .loc[row_indexer,col_indexer] = value instead\n",
      "\n",
      "See the caveats in the documentation: https://pandas.pydata.org/pandas-docs/stable/user_guide/indexing.html#returning-a-view-versus-a-copy\n",
      "  winning_sequence_counts_top_ten['percentage of total winners'] = winning_sequence_counts_top_ten['combined'] / winning_sequence_df.shape[0]\n"
     ]
    }
   ],
   "source": [
    "winning_sequence_counts_top_ten['percentage of total winners'] = winning_sequence_counts_top_ten['combined'] / winning_sequence_df.shape[0] "
   ]
  },
  {
   "cell_type": "code",
   "execution_count": 49,
   "id": "3c9e7be3",
   "metadata": {},
   "outputs": [
    {
     "data": {
      "text/html": [
       "<div>\n",
       "<style scoped>\n",
       "    .dataframe tbody tr th:only-of-type {\n",
       "        vertical-align: middle;\n",
       "    }\n",
       "\n",
       "    .dataframe tbody tr th {\n",
       "        vertical-align: top;\n",
       "    }\n",
       "\n",
       "    .dataframe thead th {\n",
       "        text-align: right;\n",
       "    }\n",
       "</style>\n",
       "<table border=\"1\" class=\"dataframe\">\n",
       "  <thead>\n",
       "    <tr style=\"text-align: right;\">\n",
       "      <th></th>\n",
       "      <th>combined</th>\n",
       "      <th>percentage of total winners</th>\n",
       "    </tr>\n",
       "  </thead>\n",
       "  <tbody>\n",
       "    <tr>\n",
       "      <th>f1f3</th>\n",
       "      <td>197</td>\n",
       "      <td>0.026319</td>\n",
       "    </tr>\n",
       "    <tr>\n",
       "      <th>m2o1</th>\n",
       "      <td>197</td>\n",
       "      <td>0.026319</td>\n",
       "    </tr>\n",
       "    <tr>\n",
       "      <th>m2o3</th>\n",
       "      <td>162</td>\n",
       "      <td>0.021643</td>\n",
       "    </tr>\n",
       "    <tr>\n",
       "      <th>b1v1</th>\n",
       "      <td>152</td>\n",
       "      <td>0.020307</td>\n",
       "    </tr>\n",
       "    <tr>\n",
       "      <th>f1f1</th>\n",
       "      <td>135</td>\n",
       "      <td>0.018036</td>\n",
       "    </tr>\n",
       "    <tr>\n",
       "      <th>b2v1</th>\n",
       "      <td>117</td>\n",
       "      <td>0.015631</td>\n",
       "    </tr>\n",
       "    <tr>\n",
       "      <th>b3z1</th>\n",
       "      <td>110</td>\n",
       "      <td>0.014696</td>\n",
       "    </tr>\n",
       "    <tr>\n",
       "      <th>b2f1</th>\n",
       "      <td>108</td>\n",
       "      <td>0.014429</td>\n",
       "    </tr>\n",
       "    <tr>\n",
       "      <th>f3b1</th>\n",
       "      <td>107</td>\n",
       "      <td>0.014295</td>\n",
       "    </tr>\n",
       "    <tr>\n",
       "      <th>f3z3</th>\n",
       "      <td>104</td>\n",
       "      <td>0.013894</td>\n",
       "    </tr>\n",
       "  </tbody>\n",
       "</table>\n",
       "</div>"
      ],
      "text/plain": [
       "      combined  percentage of total winners\n",
       "f1f3       197                     0.026319\n",
       "m2o1       197                     0.026319\n",
       "m2o3       162                     0.021643\n",
       "b1v1       152                     0.020307\n",
       "f1f1       135                     0.018036\n",
       "b2v1       117                     0.015631\n",
       "b3z1       110                     0.014696\n",
       "b2f1       108                     0.014429\n",
       "f3b1       107                     0.014295\n",
       "f3z3       104                     0.013894"
      ]
     },
     "execution_count": 49,
     "metadata": {},
     "output_type": "execute_result"
    }
   ],
   "source": [
    "winning_sequence_counts_top_ten"
   ]
  },
  {
   "cell_type": "markdown",
   "id": "c748b367",
   "metadata": {},
   "source": [
    "## P(shot is winner | receiving shot)\n",
    "\n",
    "Getting all probabilities for each shot pair with direction"
   ]
  },
  {
   "cell_type": "markdown",
   "id": "75c8abd0",
   "metadata": {},
   "source": [
    "### Charting Definitions\n",
    "\n",
    "```\n",
    "{\n",
    "    'f': 'fh gs,\n",
    "     'b': 'bh gs',\n",
    "     'r': 'fh slice',\n",
    "     's': 'bh slice',\n",
    "     'v': 'fh volley',\n",
    "     'z': 'bh volley',\n",
    "     'o': 'over hand smash',\n",
    "     'p': 'bh smash',\n",
    "     'u': 'fh drop',\n",
    "     'y': 'bh drop',\n",
    "     'l': 'fh lob',\n",
    "     'm': 'bh lob',\n",
    "     'h': 'fh half volley',\n",
    "     'i': 'bh half volley',\n",
    "     'j': 'fh swinging volley',\n",
    "     'k': 'bh swinging volley',\n",
    "     't': 'trickshot',\n",
    "     'q': 'unknown',\n",
    "     'c': 'challenge'\n",
    "}\n",
    " ```\n",
    " \n",
    "``` \n",
    "{ \n",
    "    '1': 'to a right-hander's forehand side / left-hander's backhand side',\n",
    "    '2': 'down the middle of the court',\n",
    "    '3': 'to a right-hander's backhand side / left-hander's forehand side'\n",
    "}\n",
    "```"
   ]
  },
  {
   "cell_type": "markdown",
   "id": "70da1bb4",
   "metadata": {},
   "source": [
    "### Examples\n",
    "\n",
    "##### f1 = forehand to a (righty's) forehand side; this is the typical crosscourt forehand\n",
    "\n",
    "##### b3s3b1f1v2 = (assuming both players are righties) backhand crosscourt, backhand slice crosscourt, backhand down the line, forehand crosscourt, volley down the middle."
   ]
  },
  {
   "cell_type": "code",
   "execution_count": 52,
   "id": "75410f92",
   "metadata": {},
   "outputs": [
    {
     "data": {
      "text/plain": [
       "435                                  4f1*\n",
       "436       6f2f3b3b2f2f2f2b2b3b2b3b2f1f1w@\n",
       "437                             4r2f+2b3*\n",
       "438                                    6n\n",
       "439                                    5#\n",
       "                       ...               \n",
       "619387                 6+f28v3l3l2o=1b1n@\n",
       "619388                           4+f28z3*\n",
       "619391                          6+b27h1d#\n",
       "619394                              4f37*\n",
       "619395                             6+f18*\n",
       "Length: 78705, dtype: object"
      ]
     },
     "execution_count": 52,
     "metadata": {},
     "output_type": "execute_result"
    }
   ],
   "source": [
    "rallys"
   ]
  },
  {
   "cell_type": "code",
   "execution_count": 53,
   "id": "a196a56e",
   "metadata": {},
   "outputs": [
    {
     "data": {
      "text/plain": [
       "435                   4f1*\n",
       "437              4r2f+2b3*\n",
       "442             6f2f2b2b3*\n",
       "444                     4*\n",
       "445                     6*\n",
       "                ...       \n",
       "619371        6+s28z2m1o3*\n",
       "619374    4+s27v3l2o1m1o3*\n",
       "619388            4+f28z3*\n",
       "619394               4f37*\n",
       "619395              6+f18*\n",
       "Length: 20290, dtype: object"
      ]
     },
     "execution_count": 53,
     "metadata": {},
     "output_type": "execute_result"
    }
   ],
   "source": [
    "winning_shots"
   ]
  },
  {
   "cell_type": "code",
   "execution_count": 73,
   "id": "d016d158",
   "metadata": {},
   "outputs": [],
   "source": [
    "shot_regex = '[fbrsvzopuylmhijktqc]'\n",
    "shot_and_direction = '[fbrsvzopuylmhijktqc][123]'\n",
    "shot_and_direction_new = '[fbrsvzopuylmhijktqc][123]|[fbrsvzopuylmhijktqc][\\^+=;-][123]|[fbrsvzopuylmhijktqc][\\^+=;-][\\^+=;-][123]'"
   ]
  },
  {
   "cell_type": "code",
   "execution_count": 78,
   "id": "a2e2cc3b",
   "metadata": {},
   "outputs": [],
   "source": [
    "sequence = []\n",
    "for rally in rallys:\n",
    "    shots = re.findall(shot_and_direction_new, rally, flags=0)\n",
    "    is_winner = 0\n",
    "    is_forced_error = 0\n",
    "    is_winner_or_forced_error = 0\n",
    "    \n",
    "    if len(shots) > 2:\n",
    "        if '*' in rally:\n",
    "            is_winner = 1\n",
    "            is_winner_or_forced_error = 1\n",
    "        if '#' in rally:\n",
    "            is_forced_error = 1\n",
    "            is_winner_or_forced_error = 1\n",
    "        sequence.append({\n",
    "            'rally': rally,\n",
    "            'receiving_shot': shots[-2],\n",
    "            'returned_shot': shots[-1], \n",
    "            'combined': shots[-2] + shots[-1],\n",
    "            'is_winner': is_winner,\n",
    "            'is_forced_error': is_forced_error,\n",
    "            'is_winner_or_forced_error': is_winner_or_forced_error\n",
    "        })\n",
    "    \n"
   ]
  },
  {
   "cell_type": "code",
   "execution_count": 79,
   "id": "af605eb5",
   "metadata": {},
   "outputs": [],
   "source": [
    "sequence_df = pd.DataFrame(sequence)"
   ]
  },
  {
   "cell_type": "code",
   "execution_count": 81,
   "id": "9f1e95ce",
   "metadata": {},
   "outputs": [],
   "source": [
    "sequence_df.to_csv('data/results/sequence_df.csv')"
   ]
  },
  {
   "cell_type": "markdown",
   "id": "76e77c7c",
   "metadata": {},
   "source": [
    "## Results\n",
    "\n",
    "Data includes all rally's and whether or not it is a winner or a forced error. This also gives us the last sequence of shots (receiving and returned shots)"
   ]
  },
  {
   "cell_type": "code",
   "execution_count": 80,
   "id": "75ea0797",
   "metadata": {},
   "outputs": [
    {
     "data": {
      "text/html": [
       "<div>\n",
       "<style scoped>\n",
       "    .dataframe tbody tr th:only-of-type {\n",
       "        vertical-align: middle;\n",
       "    }\n",
       "\n",
       "    .dataframe tbody tr th {\n",
       "        vertical-align: top;\n",
       "    }\n",
       "\n",
       "    .dataframe thead th {\n",
       "        text-align: right;\n",
       "    }\n",
       "</style>\n",
       "<table border=\"1\" class=\"dataframe\">\n",
       "  <thead>\n",
       "    <tr style=\"text-align: right;\">\n",
       "      <th></th>\n",
       "      <th>rally</th>\n",
       "      <th>receiving_shot</th>\n",
       "      <th>returned_shot</th>\n",
       "      <th>combined</th>\n",
       "      <th>is_winner</th>\n",
       "      <th>is_forced_error</th>\n",
       "      <th>is_winner_or_forced_error</th>\n",
       "    </tr>\n",
       "  </thead>\n",
       "  <tbody>\n",
       "    <tr>\n",
       "      <th>0</th>\n",
       "      <td>6f2f3b3b2f2f2f2b2b3b2b3b2f1f1w@</td>\n",
       "      <td>f1</td>\n",
       "      <td>f1</td>\n",
       "      <td>f1f1</td>\n",
       "      <td>0</td>\n",
       "      <td>0</td>\n",
       "      <td>0</td>\n",
       "    </tr>\n",
       "    <tr>\n",
       "      <th>1</th>\n",
       "      <td>4r2f+2b3*</td>\n",
       "      <td>f+2</td>\n",
       "      <td>b3</td>\n",
       "      <td>f+2b3</td>\n",
       "      <td>1</td>\n",
       "      <td>0</td>\n",
       "      <td>1</td>\n",
       "    </tr>\n",
       "    <tr>\n",
       "      <th>2</th>\n",
       "      <td>6f2r2f2b2b1w@</td>\n",
       "      <td>b2</td>\n",
       "      <td>b1</td>\n",
       "      <td>b2b1</td>\n",
       "      <td>0</td>\n",
       "      <td>0</td>\n",
       "      <td>0</td>\n",
       "    </tr>\n",
       "    <tr>\n",
       "      <th>3</th>\n",
       "      <td>6b2b2b2b2b2f2b;2b2s3f1f2d@</td>\n",
       "      <td>f1</td>\n",
       "      <td>f2</td>\n",
       "      <td>f1f2</td>\n",
       "      <td>0</td>\n",
       "      <td>0</td>\n",
       "      <td>0</td>\n",
       "    </tr>\n",
       "    <tr>\n",
       "      <th>4</th>\n",
       "      <td>6f2f2b2b3*</td>\n",
       "      <td>b2</td>\n",
       "      <td>b3</td>\n",
       "      <td>b2b3</td>\n",
       "      <td>1</td>\n",
       "      <td>0</td>\n",
       "      <td>1</td>\n",
       "    </tr>\n",
       "    <tr>\n",
       "      <th>...</th>\n",
       "      <td>...</td>\n",
       "      <td>...</td>\n",
       "      <td>...</td>\n",
       "      <td>...</td>\n",
       "      <td>...</td>\n",
       "      <td>...</td>\n",
       "      <td>...</td>\n",
       "    </tr>\n",
       "    <tr>\n",
       "      <th>22917</th>\n",
       "      <td>6+s28z2m1o3*</td>\n",
       "      <td>m1</td>\n",
       "      <td>o3</td>\n",
       "      <td>m1o3</td>\n",
       "      <td>1</td>\n",
       "      <td>0</td>\n",
       "      <td>1</td>\n",
       "    </tr>\n",
       "    <tr>\n",
       "      <th>22918</th>\n",
       "      <td>4+s27v3l2o1m1o3*</td>\n",
       "      <td>m1</td>\n",
       "      <td>o3</td>\n",
       "      <td>m1o3</td>\n",
       "      <td>1</td>\n",
       "      <td>0</td>\n",
       "      <td>1</td>\n",
       "    </tr>\n",
       "    <tr>\n",
       "      <th>22919</th>\n",
       "      <td>4+f27b2b1z2n#</td>\n",
       "      <td>b1</td>\n",
       "      <td>z2</td>\n",
       "      <td>b1z2</td>\n",
       "      <td>0</td>\n",
       "      <td>1</td>\n",
       "      <td>1</td>\n",
       "    </tr>\n",
       "    <tr>\n",
       "      <th>22920</th>\n",
       "      <td>4+s17z3l1o1s1s+1m1d@</td>\n",
       "      <td>s+1</td>\n",
       "      <td>m1</td>\n",
       "      <td>s+1m1</td>\n",
       "      <td>0</td>\n",
       "      <td>0</td>\n",
       "      <td>0</td>\n",
       "    </tr>\n",
       "    <tr>\n",
       "      <th>22921</th>\n",
       "      <td>6+f28v3l3l2o=1b1n@</td>\n",
       "      <td>o=1</td>\n",
       "      <td>b1</td>\n",
       "      <td>o=1b1</td>\n",
       "      <td>0</td>\n",
       "      <td>0</td>\n",
       "      <td>0</td>\n",
       "    </tr>\n",
       "  </tbody>\n",
       "</table>\n",
       "<p>22922 rows × 7 columns</p>\n",
       "</div>"
      ],
      "text/plain": [
       "                                 rally receiving_shot returned_shot combined  \\\n",
       "0      6f2f3b3b2f2f2f2b2b3b2b3b2f1f1w@             f1            f1     f1f1   \n",
       "1                            4r2f+2b3*            f+2            b3    f+2b3   \n",
       "2                        6f2r2f2b2b1w@             b2            b1     b2b1   \n",
       "3           6b2b2b2b2b2f2b;2b2s3f1f2d@             f1            f2     f1f2   \n",
       "4                           6f2f2b2b3*             b2            b3     b2b3   \n",
       "...                                ...            ...           ...      ...   \n",
       "22917                     6+s28z2m1o3*             m1            o3     m1o3   \n",
       "22918                 4+s27v3l2o1m1o3*             m1            o3     m1o3   \n",
       "22919                    4+f27b2b1z2n#             b1            z2     b1z2   \n",
       "22920             4+s17z3l1o1s1s+1m1d@            s+1            m1    s+1m1   \n",
       "22921               6+f28v3l3l2o=1b1n@            o=1            b1    o=1b1   \n",
       "\n",
       "       is_winner  is_forced_error  is_winner_or_forced_error  \n",
       "0              0                0                          0  \n",
       "1              1                0                          1  \n",
       "2              0                0                          0  \n",
       "3              0                0                          0  \n",
       "4              1                0                          1  \n",
       "...          ...              ...                        ...  \n",
       "22917          1                0                          1  \n",
       "22918          1                0                          1  \n",
       "22919          0                1                          1  \n",
       "22920          0                0                          0  \n",
       "22921          0                0                          0  \n",
       "\n",
       "[22922 rows x 7 columns]"
      ]
     },
     "execution_count": 80,
     "metadata": {},
     "output_type": "execute_result"
    }
   ],
   "source": [
    "sequence_df"
   ]
  },
  {
   "cell_type": "markdown",
   "id": "61dee040",
   "metadata": {},
   "source": [
    "## Statistics and Analysis"
   ]
  },
  {
   "cell_type": "markdown",
   "id": "413c55dd",
   "metadata": {},
   "source": [
    "For every last 2 shot combination, we'll need to find **P(A is a winner | B is receiving shot)**"
   ]
  },
  {
   "cell_type": "code",
   "execution_count": 105,
   "id": "fc8e6d25",
   "metadata": {},
   "outputs": [],
   "source": [
    "value_counts_dict = sequence_df['combined'].value_counts().to_dict()"
   ]
  },
  {
   "cell_type": "code",
   "execution_count": 107,
   "id": "8699449c",
   "metadata": {},
   "outputs": [
    {
     "data": {
      "text/plain": [
       "2378"
      ]
     },
     "execution_count": 107,
     "metadata": {},
     "output_type": "execute_result"
    }
   ],
   "source": [
    "len(value_counts_dict)"
   ]
  },
  {
   "cell_type": "code",
   "execution_count": 109,
   "id": "4068926c",
   "metadata": {},
   "outputs": [],
   "source": [
    "total_winners_or_forced_errors_df = sequence_df.groupby('combined')['is_winner_or_forced_error'].sum()"
   ]
  },
  {
   "cell_type": "code",
   "execution_count": 110,
   "id": "6a101e60",
   "metadata": {},
   "outputs": [
    {
     "data": {
      "text/plain": [
       "combined\n",
       "b+1b1      6\n",
       "b+1b2      1\n",
       "b+1b3      7\n",
       "b+1b;1     1\n",
       "b+1f1     36\n",
       "          ..\n",
       "z^3s-3     8\n",
       "z^3s1      7\n",
       "z^3s2      1\n",
       "z^3s3      3\n",
       "z^3y-3     1\n",
       "Name: is_winner_or_forced_error, Length: 2378, dtype: int64"
      ]
     },
     "execution_count": 110,
     "metadata": {},
     "output_type": "execute_result"
    }
   ],
   "source": [
    "total_winners_or_forced_errors_df"
   ]
  },
  {
   "cell_type": "code",
   "execution_count": 117,
   "id": "0d064e8f",
   "metadata": {},
   "outputs": [],
   "source": [
    "stats_list = []\n",
    "\n",
    "for key, value in value_counts_dict.items():\n",
    "    stats_dict = {\n",
    "        'combined': key,\n",
    "        'total_occurences': value,\n",
    "        'num_of_winners_or_forced_errors': total_winners_or_forced_errors_df[key]\n",
    "    }\n",
    "    stats_list.append(stats_dict)"
   ]
  },
  {
   "cell_type": "code",
   "execution_count": 118,
   "id": "f8c69f0d",
   "metadata": {},
   "outputs": [],
   "source": [
    "stats_df = pd.DataFrame(stats_list)"
   ]
  },
  {
   "cell_type": "code",
   "execution_count": 120,
   "id": "1c48fcdf",
   "metadata": {},
   "outputs": [],
   "source": [
    "stats_df['p'] = stats_df['num_of_winners_or_forced_errors'] / stats_df['total_occurences']"
   ]
  },
  {
   "cell_type": "code",
   "execution_count": 125,
   "id": "5086b96a",
   "metadata": {},
   "outputs": [],
   "source": [
    "stats_df.sort_values('total_occurences', ascending=False).to_csv('stats_df.csv')"
   ]
  },
  {
   "cell_type": "code",
   "execution_count": null,
   "id": "c880e53e",
   "metadata": {},
   "outputs": [],
   "source": []
  }
 ],
 "metadata": {
  "kernelspec": {
   "display_name": "Python 3 (ipykernel)",
   "language": "python",
   "name": "python3"
  },
  "language_info": {
   "codemirror_mode": {
    "name": "ipython",
    "version": 3
   },
   "file_extension": ".py",
   "mimetype": "text/x-python",
   "name": "python",
   "nbconvert_exporter": "python",
   "pygments_lexer": "ipython3",
   "version": "3.9.2"
  }
 },
 "nbformat": 4,
 "nbformat_minor": 5
}
