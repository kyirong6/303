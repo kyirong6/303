{
 "cells": [
  {
   "cell_type": "code",
   "execution_count": 109,
   "id": "3ff1ede5",
   "metadata": {},
   "outputs": [],
   "source": [
    "import pandas as pd\n",
    "import numpy as np\n",
    "import statsmodels.api as sm\n",
    "import re"
   ]
  },
  {
   "cell_type": "markdown",
   "id": "2e3d78f1",
   "metadata": {},
   "source": [
    "### Data"
   ]
  },
  {
   "cell_type": "code",
   "execution_count": 67,
   "id": "ed01761e",
   "metadata": {},
   "outputs": [
    {
     "name": "stderr",
     "output_type": "stream",
     "text": [
      "/var/folders/0w/7qj8hh4n3w53g1qsr8gf4s_w0000gn/T/ipykernel_15577/2249881497.py:1: DtypeWarning: Columns (8,9,29) have mixed types. Specify dtype option on import or set low_memory=False.\n",
      "  charting_df = pd.read_csv('data/charting-m-points.csv', encoding = \"ISO-8859-1\")\n"
     ]
    }
   ],
   "source": [
    "charting_df = pd.read_csv('data/charting-m-points.csv', encoding = \"ISO-8859-1\")"
   ]
  },
  {
   "cell_type": "code",
   "execution_count": 71,
   "id": "0502208d",
   "metadata": {
    "scrolled": true
   },
   "outputs": [
    {
     "data": {
      "text/html": [
       "<div>\n",
       "<style scoped>\n",
       "    .dataframe tbody tr th:only-of-type {\n",
       "        vertical-align: middle;\n",
       "    }\n",
       "\n",
       "    .dataframe tbody tr th {\n",
       "        vertical-align: top;\n",
       "    }\n",
       "\n",
       "    .dataframe thead th {\n",
       "        text-align: right;\n",
       "    }\n",
       "</style>\n",
       "<table border=\"1\" class=\"dataframe\">\n",
       "  <thead>\n",
       "    <tr style=\"text-align: right;\">\n",
       "      <th></th>\n",
       "      <th>match_id</th>\n",
       "      <th>Pt</th>\n",
       "      <th>Set1</th>\n",
       "      <th>Set2</th>\n",
       "      <th>Gm1</th>\n",
       "      <th>Gm2</th>\n",
       "      <th>Pts</th>\n",
       "      <th>Gm#</th>\n",
       "      <th>TbSet</th>\n",
       "      <th>TB?</th>\n",
       "      <th>...</th>\n",
       "      <th>2ndIn</th>\n",
       "      <th>isAce</th>\n",
       "      <th>isUnret</th>\n",
       "      <th>isRallyWinner</th>\n",
       "      <th>isForced</th>\n",
       "      <th>isUnforced</th>\n",
       "      <th>isDouble</th>\n",
       "      <th>PtWinner</th>\n",
       "      <th>isSvrWinner</th>\n",
       "      <th>rallyCount</th>\n",
       "    </tr>\n",
       "  </thead>\n",
       "  <tbody>\n",
       "    <tr>\n",
       "      <th>0</th>\n",
       "      <td>20220713-M-Newport-R16-Andy_Murray-Max_Purcell</td>\n",
       "      <td>1</td>\n",
       "      <td>0</td>\n",
       "      <td>0</td>\n",
       "      <td>0.0</td>\n",
       "      <td>0.0</td>\n",
       "      <td>0-0</td>\n",
       "      <td>1 (1)</td>\n",
       "      <td>1</td>\n",
       "      <td>0</td>\n",
       "      <td>...</td>\n",
       "      <td>NaN</td>\n",
       "      <td>False</td>\n",
       "      <td>False</td>\n",
       "      <td>False</td>\n",
       "      <td>False</td>\n",
       "      <td>False</td>\n",
       "      <td>False</td>\n",
       "      <td>1</td>\n",
       "      <td>1</td>\n",
       "      <td>1</td>\n",
       "    </tr>\n",
       "  </tbody>\n",
       "</table>\n",
       "<p>1 rows × 30 columns</p>\n",
       "</div>"
      ],
      "text/plain": [
       "                                         match_id  Pt  Set1  Set2  Gm1  Gm2  \\\n",
       "0  20220713-M-Newport-R16-Andy_Murray-Max_Purcell   1     0     0  0.0  0.0   \n",
       "\n",
       "   Pts    Gm# TbSet TB?  ...  2ndIn  isAce  isUnret isRallyWinner isForced  \\\n",
       "0  0-0  1 (1)     1   0  ...    NaN  False    False         False    False   \n",
       "\n",
       "  isUnforced isDouble  PtWinner  isSvrWinner  rallyCount  \n",
       "0      False    False         1            1           1  \n",
       "\n",
       "[1 rows x 30 columns]"
      ]
     },
     "execution_count": 71,
     "metadata": {},
     "output_type": "execute_result"
    }
   ],
   "source": [
    "charting_df.head(1)"
   ]
  },
  {
   "cell_type": "markdown",
   "id": "56f9cad6",
   "metadata": {},
   "source": [
    "### Exploration"
   ]
  },
  {
   "cell_type": "code",
   "execution_count": 172,
   "id": "f8d8edda",
   "metadata": {},
   "outputs": [],
   "source": [
    "wimbeldon_chart_df = charting_df[charting_df['match_id'].str.contains('Wimbledon')]"
   ]
  },
  {
   "cell_type": "markdown",
   "id": "74a1ae02",
   "metadata": {},
   "source": [
    "#### Winning Shot Statistics"
   ]
  },
  {
   "cell_type": "code",
   "execution_count": 173,
   "id": "cc73851f",
   "metadata": {},
   "outputs": [],
   "source": [
    "# get rows for both 1st and 2nd\n",
    "wimbeldon_chart_1st = wimbeldon_chart_df[wimbeldon_chart_df['1st'].notna()]\n",
    "wimbeldon_chart_2nd = wimbeldon_chart_df[wimbeldon_chart_df['2nd'].notna()]"
   ]
  },
  {
   "cell_type": "code",
   "execution_count": 175,
   "id": "5d9ec683",
   "metadata": {},
   "outputs": [
    {
     "name": "stderr",
     "output_type": "stream",
     "text": [
      "/var/folders/0w/7qj8hh4n3w53g1qsr8gf4s_w0000gn/T/ipykernel_15577/3234859012.py:2: FutureWarning: The series.append method is deprecated and will be removed from pandas in a future version. Use pandas.concat instead.\n",
      "  rallys = rallys.append(wimbeldon_chart_2nd['2nd'])\n"
     ]
    }
   ],
   "source": [
    "rallys = wimbeldon_chart_1st['1st']\n",
    "rallys = rallys.append(wimbeldon_chart_2nd['2nd'])"
   ]
  },
  {
   "cell_type": "code",
   "execution_count": 176,
   "id": "27181a79",
   "metadata": {},
   "outputs": [
    {
     "data": {
      "text/plain": [
       "(78705,)"
      ]
     },
     "execution_count": 176,
     "metadata": {},
     "output_type": "execute_result"
    }
   ],
   "source": [
    "rallys.shape"
   ]
  },
  {
   "cell_type": "code",
   "execution_count": 187,
   "id": "7d3c5830",
   "metadata": {},
   "outputs": [],
   "source": [
    "# sequences of rallies that end with '*' represent a winner was hit\n",
    "# winners_df_1st = wimbeldon_chart_1st[wimbeldon_chart_1st['1st'].str.contains(\"\\*\")]\n",
    "# winners_df_2nd = wimbeldon_chart_2nd[wimbeldon_chart_2nd['2nd'].str.contains(\"\\*\")]\n",
    "winning_shots = rallys[rallys.str.contains(\"\\*\")]"
   ]
  },
  {
   "cell_type": "code",
   "execution_count": 159,
   "id": "20195a26",
   "metadata": {},
   "outputs": [
    {
     "name": "stderr",
     "output_type": "stream",
     "text": [
      "/var/folders/0w/7qj8hh4n3w53g1qsr8gf4s_w0000gn/T/ipykernel_15577/450896268.py:2: FutureWarning: The series.append method is deprecated and will be removed from pandas in a future version. Use pandas.concat instead.\n",
      "  winners_df = winners_df.append(winners_df_2nd['2nd'])\n"
     ]
    }
   ],
   "source": [
    "#winners_df = winners_df_1st['1st']\n",
    "#winners_df = winners_df.append(winners_df_2nd['2nd'])"
   ]
  },
  {
   "cell_type": "code",
   "execution_count": 188,
   "id": "d5989bf8",
   "metadata": {},
   "outputs": [
    {
     "data": {
      "text/plain": [
       "(20290,)"
      ]
     },
     "execution_count": 188,
     "metadata": {},
     "output_type": "execute_result"
    }
   ],
   "source": [
    "winning_shots.shape"
   ]
  },
  {
   "cell_type": "code",
   "execution_count": 189,
   "id": "5c2e1589",
   "metadata": {},
   "outputs": [],
   "source": [
    "# 1st value: winners\n",
    "# 2nd value: total occurences of this shot selection in general\n",
    "shot_map = {\n",
    "    'f': [0, 0,'fh gs'],\n",
    "    'b': [0, 0,'bh gs'],\n",
    "    'r': [0, 0, 'fh slice'],\n",
    "    's': [0, 0, 'bh slice'],\n",
    "    'v': [0, 0,'fh volley'],\n",
    "    'z': [0, 0,'bh volley'],\n",
    "    'o': [0, 0,'oh smash'],\n",
    "    'p': [0, 0,'bh smash'],\n",
    "    'u': [0, 0,'fh drop'],\n",
    "    'y': [0, 0,'bh drop'],\n",
    "    'l': [0, 0,'fh lob'],\n",
    "    'm': [0, 0,'bh lob'],\n",
    "    'h': [0, 0,'fh hv'],\n",
    "    'i': [0, 0,'bh hv'],\n",
    "    'j': [0, 0,'fh sv'],\n",
    "    'k': [0, 0,'bh sv'],\n",
    "    't': [0, 0,'trickshot'],\n",
    "    'q': [0, 0,'unknown'],\n",
    "    'c': [0, 0,'challenge']\n",
    "}"
   ]
  },
  {
   "cell_type": "markdown",
   "id": "0de7e294",
   "metadata": {},
   "source": [
    "#### get winning shots"
   ]
  },
  {
   "cell_type": "code",
   "execution_count": 190,
   "id": "53881539",
   "metadata": {},
   "outputs": [],
   "source": [
    "num_of_winning_shots = 0\n",
    "for i in winning_shots:\n",
    "    if len(i) > 2: # ignore aces for now\n",
    "        winning_shot = i[-4:]\n",
    "        match = re.search(r'{letter_regex}'.format(letter_regex=letter_regex), winning_shot)\n",
    "        if match:\n",
    "            shot = match[0]\n",
    "            if shot == 'd':\n",
    "                winning_shot = i[-5:]\n",
    "                match = re.search(r'{letter_regex}'.format(letter_regex=letter_regex), winning_shot)  \n",
    "                shot = match[0]\n",
    "            num_of_winning_shots += 1\n",
    "            shot_map[shot.lower()][0] += 1\n",
    "            "
   ]
  },
  {
   "cell_type": "code",
   "execution_count": 197,
   "id": "cb06abe1",
   "metadata": {},
   "outputs": [
    {
     "data": {
      "text/plain": [
       "{'f': [4865, 0, 'fh gs'],\n",
       " 'b': [2681, 0, 'bh gs'],\n",
       " 'r': [91, 0, 'fh slice'],\n",
       " 's': [311, 0, 'bh slice'],\n",
       " 'v': [2122, 0, 'fh volley'],\n",
       " 'z': [1896, 0, 'bh volley'],\n",
       " 'o': [1221, 0, 'oh smash'],\n",
       " 'p': [61, 0, 'bh smash'],\n",
       " 'u': [165, 0, 'fh drop'],\n",
       " 'y': [138, 0, 'bh drop'],\n",
       " 'l': [93, 0, 'fh lob'],\n",
       " 'm': [111, 0, 'bh lob'],\n",
       " 'h': [81, 0, 'fh hv'],\n",
       " 'i': [65, 0, 'bh hv'],\n",
       " 'j': [139, 0, 'fh sv'],\n",
       " 'k': [29, 0, 'bh sv'],\n",
       " 't': [2, 0, 'trickshot'],\n",
       " 'q': [10, 0, 'unknown'],\n",
       " 'c': [244, 0, 'challenge']}"
      ]
     },
     "execution_count": 197,
     "metadata": {},
     "output_type": "execute_result"
    }
   ],
   "source": [
    "shot_map"
   ]
  },
  {
   "cell_type": "markdown",
   "id": "13d9edfa",
   "metadata": {},
   "source": [
    "#### get total occurences of shot in general and build df for viz"
   ]
  },
  {
   "cell_type": "code",
   "execution_count": 195,
   "id": "f4ad009d",
   "metadata": {},
   "outputs": [],
   "source": [
    "all_rallys_str = ''.join(list(rallys))"
   ]
  },
  {
   "cell_type": "code",
   "execution_count": 198,
   "id": "abd0a313",
   "metadata": {},
   "outputs": [],
   "source": [
    "df = []\n",
    "for shot, stats in shot_map.items():\n",
    "    total_shots = all_rallys_str.count(shot)\n",
    "    stats[1] = total_shots\n",
    "    df.append({\n",
    "        'shot': stats[2],\n",
    "        'total': stats[1],\n",
    "        'winners': stats[0]\n",
    "    })"
   ]
  },
  {
   "cell_type": "code",
   "execution_count": 199,
   "id": "28a2e965",
   "metadata": {},
   "outputs": [
    {
     "data": {
      "text/plain": [
       "{'f': [4865, 63776, 'fh gs'],\n",
       " 'b': [2681, 49124, 'bh gs'],\n",
       " 'r': [91, 4477, 'fh slice'],\n",
       " 's': [311, 22149, 'bh slice'],\n",
       " 'v': [2122, 6178, 'fh volley'],\n",
       " 'z': [1896, 7183, 'bh volley'],\n",
       " 'o': [1221, 1978, 'oh smash'],\n",
       " 'p': [61, 212, 'bh smash'],\n",
       " 'u': [165, 667, 'fh drop'],\n",
       " 'y': [138, 889, 'bh drop'],\n",
       " 'l': [93, 1124, 'fh lob'],\n",
       " 'm': [111, 2260, 'bh lob'],\n",
       " 'h': [81, 1116, 'fh hv'],\n",
       " 'i': [65, 1236, 'bh hv'],\n",
       " 'j': [139, 302, 'fh sv'],\n",
       " 'k': [29, 71, 'bh sv'],\n",
       " 't': [2, 99, 'trickshot'],\n",
       " 'q': [10, 134, 'unknown'],\n",
       " 'c': [244, 2916, 'challenge']}"
      ]
     },
     "execution_count": 199,
     "metadata": {},
     "output_type": "execute_result"
    }
   ],
   "source": [
    "shot_map"
   ]
  },
  {
   "cell_type": "code",
   "execution_count": 201,
   "id": "e57385d7",
   "metadata": {},
   "outputs": [],
   "source": [
    "shot_selection_df = pd.DataFrame(df)"
   ]
  },
  {
   "cell_type": "code",
   "execution_count": 203,
   "id": "7a91dfe3",
   "metadata": {},
   "outputs": [],
   "source": [
    "shot_selection_df =  shot_selection_df.sort_values(\"total\", ascending=False)"
   ]
  },
  {
   "cell_type": "code",
   "execution_count": 204,
   "id": "0952ed56",
   "metadata": {
    "scrolled": true
   },
   "outputs": [
    {
     "data": {
      "text/html": [
       "<div>\n",
       "<style scoped>\n",
       "    .dataframe tbody tr th:only-of-type {\n",
       "        vertical-align: middle;\n",
       "    }\n",
       "\n",
       "    .dataframe tbody tr th {\n",
       "        vertical-align: top;\n",
       "    }\n",
       "\n",
       "    .dataframe thead th {\n",
       "        text-align: right;\n",
       "    }\n",
       "</style>\n",
       "<table border=\"1\" class=\"dataframe\">\n",
       "  <thead>\n",
       "    <tr style=\"text-align: right;\">\n",
       "      <th></th>\n",
       "      <th>shot</th>\n",
       "      <th>total</th>\n",
       "      <th>winners</th>\n",
       "    </tr>\n",
       "  </thead>\n",
       "  <tbody>\n",
       "    <tr>\n",
       "      <th>0</th>\n",
       "      <td>fh gs</td>\n",
       "      <td>63776</td>\n",
       "      <td>4865</td>\n",
       "    </tr>\n",
       "    <tr>\n",
       "      <th>1</th>\n",
       "      <td>bh gs</td>\n",
       "      <td>49124</td>\n",
       "      <td>2681</td>\n",
       "    </tr>\n",
       "    <tr>\n",
       "      <th>3</th>\n",
       "      <td>bh slice</td>\n",
       "      <td>22149</td>\n",
       "      <td>311</td>\n",
       "    </tr>\n",
       "    <tr>\n",
       "      <th>5</th>\n",
       "      <td>bh volley</td>\n",
       "      <td>7183</td>\n",
       "      <td>1896</td>\n",
       "    </tr>\n",
       "    <tr>\n",
       "      <th>4</th>\n",
       "      <td>fh volley</td>\n",
       "      <td>6178</td>\n",
       "      <td>2122</td>\n",
       "    </tr>\n",
       "    <tr>\n",
       "      <th>2</th>\n",
       "      <td>fh slice</td>\n",
       "      <td>4477</td>\n",
       "      <td>91</td>\n",
       "    </tr>\n",
       "    <tr>\n",
       "      <th>18</th>\n",
       "      <td>challenge</td>\n",
       "      <td>2916</td>\n",
       "      <td>244</td>\n",
       "    </tr>\n",
       "    <tr>\n",
       "      <th>11</th>\n",
       "      <td>bh lob</td>\n",
       "      <td>2260</td>\n",
       "      <td>111</td>\n",
       "    </tr>\n",
       "    <tr>\n",
       "      <th>6</th>\n",
       "      <td>oh smash</td>\n",
       "      <td>1978</td>\n",
       "      <td>1221</td>\n",
       "    </tr>\n",
       "    <tr>\n",
       "      <th>13</th>\n",
       "      <td>bh hv</td>\n",
       "      <td>1236</td>\n",
       "      <td>65</td>\n",
       "    </tr>\n",
       "    <tr>\n",
       "      <th>10</th>\n",
       "      <td>fh lob</td>\n",
       "      <td>1124</td>\n",
       "      <td>93</td>\n",
       "    </tr>\n",
       "    <tr>\n",
       "      <th>12</th>\n",
       "      <td>fh hv</td>\n",
       "      <td>1116</td>\n",
       "      <td>81</td>\n",
       "    </tr>\n",
       "    <tr>\n",
       "      <th>9</th>\n",
       "      <td>bh drop</td>\n",
       "      <td>889</td>\n",
       "      <td>138</td>\n",
       "    </tr>\n",
       "    <tr>\n",
       "      <th>8</th>\n",
       "      <td>fh drop</td>\n",
       "      <td>667</td>\n",
       "      <td>165</td>\n",
       "    </tr>\n",
       "    <tr>\n",
       "      <th>14</th>\n",
       "      <td>fh sv</td>\n",
       "      <td>302</td>\n",
       "      <td>139</td>\n",
       "    </tr>\n",
       "    <tr>\n",
       "      <th>7</th>\n",
       "      <td>bh smash</td>\n",
       "      <td>212</td>\n",
       "      <td>61</td>\n",
       "    </tr>\n",
       "    <tr>\n",
       "      <th>17</th>\n",
       "      <td>unknown</td>\n",
       "      <td>134</td>\n",
       "      <td>10</td>\n",
       "    </tr>\n",
       "    <tr>\n",
       "      <th>16</th>\n",
       "      <td>trickshot</td>\n",
       "      <td>99</td>\n",
       "      <td>2</td>\n",
       "    </tr>\n",
       "    <tr>\n",
       "      <th>15</th>\n",
       "      <td>bh sv</td>\n",
       "      <td>71</td>\n",
       "      <td>29</td>\n",
       "    </tr>\n",
       "  </tbody>\n",
       "</table>\n",
       "</div>"
      ],
      "text/plain": [
       "         shot  total  winners\n",
       "0       fh gs  63776     4865\n",
       "1       bh gs  49124     2681\n",
       "3    bh slice  22149      311\n",
       "5   bh volley   7183     1896\n",
       "4   fh volley   6178     2122\n",
       "2    fh slice   4477       91\n",
       "18  challenge   2916      244\n",
       "11     bh lob   2260      111\n",
       "6    oh smash   1978     1221\n",
       "13      bh hv   1236       65\n",
       "10     fh lob   1124       93\n",
       "12      fh hv   1116       81\n",
       "9     bh drop    889      138\n",
       "8     fh drop    667      165\n",
       "14      fh sv    302      139\n",
       "7    bh smash    212       61\n",
       "17    unknown    134       10\n",
       "16  trickshot     99        2\n",
       "15      bh sv     71       29"
      ]
     },
     "execution_count": 204,
     "metadata": {},
     "output_type": "execute_result"
    }
   ],
   "source": [
    "shot_selection_df"
   ]
  },
  {
   "cell_type": "markdown",
   "id": "9a7dd884",
   "metadata": {},
   "source": [
    "#### Plots"
   ]
  },
  {
   "cell_type": "code",
   "execution_count": 211,
   "id": "bfdc328c",
   "metadata": {},
   "outputs": [
    {
     "data": {
      "image/png": "[encoded data removed]",
      "text/plain": [
       "<Figure size 3000x1500 with 1 Axes>"
      ]
     },
     "metadata": {},
     "output_type": "display_data"
    }
   ],
   "source": [
    "import seaborn as sns\n",
    "import matplotlib.pyplot as plt\n",
    "sns.set_theme(style=\"whitegrid\")\n",
    "\n",
    "# Initialize the matplotlib figure\n",
    "f, ax = plt.subplots(figsize=(30, 15))\n",
    "\n",
    "\n",
    "sns.set_color_codes(\"pastel\")\n",
    "sns.barplot(x=\"shot\", y=\"total\", data=shot_selection_df,\n",
    "            label=\"Total\", color=\"b\")\n",
    "\n",
    "\n",
    "sns.set_color_codes(\"muted\")\n",
    "sns.barplot(x=\"shot\", y=\"winners\", data=shot_selection_df,\n",
    "            label=\"Winners\", color=\"b\")\n",
    "\n",
    "# Add a legend and informative axis label\n",
    "ax.legend(ncol=2, loc=\"lower right\", frameon=True)\n",
    "ax.set(ylim=(0, 60000), ylabel=\"\",\n",
    "       xlabel=\"Total Number of Shot Types and Shot Winners in a Rally\")\n",
    "sns.despine(left=True, bottom=True)"
   ]
  },
  {
   "cell_type": "code",
   "execution_count": 213,
   "id": "9f0fe7b0",
   "metadata": {},
   "outputs": [
    {
     "ename": "AttributeError",
     "evalue": "module 'seaborn' has no attribute 'savefig'",
     "output_type": "error",
     "traceback": [
      "\u001b[0;31m---------------------------------------------------------------------------\u001b[0m",
      "\u001b[0;31mAttributeError\u001b[0m                            Traceback (most recent call last)",
      "Cell \u001b[0;32mIn [213], line 1\u001b[0m\n\u001b[0;32m----> 1\u001b[0m \u001b[43msns\u001b[49m\u001b[38;5;241;43m.\u001b[39;49m\u001b[43msavefig\u001b[49m(\u001b[38;5;124m\"\u001b[39m\u001b[38;5;124mshot_fig.png\u001b[39m\u001b[38;5;124m\"\u001b[39m)\n",
      "\u001b[0;31mAttributeError\u001b[0m: module 'seaborn' has no attribute 'savefig'"
     ]
    }
   ],
   "source": [
    "sns.savefig(\"shot_fig.png\")"
   ]
  },
  {
   "cell_type": "code",
   "execution_count": null,
   "id": "40b27960",
   "metadata": {},
   "outputs": [],
   "source": []
  }
 ],
 "metadata": {
  "kernelspec": {
   "display_name": "Python 3 (ipykernel)",
   "language": "python",
   "name": "python3"
  },
  "language_info": {
   "codemirror_mode": {
    "name": "ipython",
    "version": 3
   },
   "file_extension": ".py",
   "mimetype": "text/x-python",
   "name": "python",
   "nbconvert_exporter": "python",
   "pygments_lexer": "ipython3",
   "version": "3.9.2"
  }
 },
 "nbformat": 4,
 "nbformat_minor": 5
}
